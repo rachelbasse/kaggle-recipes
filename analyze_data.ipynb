{
 "cells": [
  {
   "cell_type": "code",
   "execution_count": null,
   "metadata": {},
   "outputs": [],
   "source": [
    "# imports\n",
    "\n",
    "# extra\n",
    "import matplotlib.pyplot as plt\n",
    "import numpy as np\n",
    "import pandas as pd\n",
    "import seaborn as sns\n",
    "\n",
    "# local\n",
    "from feature_helpers import *\n",
    "\n",
    "# display settings\n",
    "sns.set(style='whitegrid', palette='husl')\n",
    "pd.set_option('display.max_colwidth', 400)\n",
    "pd.set_option('display.precision', 4)\n",
    "pd.set_option('display.width', 1600)"
   ]
  },
  {
   "cell_type": "code",
   "execution_count": null,
   "metadata": {},
   "outputs": [],
   "source": [
    "recipes = load_clean_data()"
   ]
  },
  {
   "cell_type": "code",
   "execution_count": null,
   "metadata": {},
   "outputs": [],
   "source": [
    "metrics = get_metrics(recipes)"
   ]
  },
  {
   "cell_type": "code",
   "execution_count": null,
   "metadata": {},
   "outputs": [],
   "source": [
    "metrics.sort_values('unique_count')"
   ]
  },
  {
   "cell_type": "code",
   "execution_count": null,
   "metadata": {
    "scrolled": false
   },
   "outputs": [],
   "source": [
    "sns.set(style='whitegrid', palette='husl')\n",
    "recipe_counts_plot = sns.catplot(x='recipe_count', y='cuisine', data=metrics, kind='bar', height=7, aspect=1.8,\n",
    "                                 order=metrics.recipe_count.sort_values(ascending=False).index)\n",
    "recipe_counts_plot.set(xticks=range(0, 10500, 500));"
   ]
  },
  {
   "cell_type": "code",
   "execution_count": null,
   "metadata": {},
   "outputs": [],
   "source": [
    "recipe_lengths_plot = sns.catplot(x='recipe_length', y='cuisine', data=metrics, kind='bar', height=7, aspect=1.5,\n",
    "                                  order=metrics.recipe_length.sort_values(ascending=False).index)\n",
    "recipe_lengths_plot.set(xticks=range(0, 15, 2));"
   ]
  },
  {
   "cell_type": "code",
   "execution_count": null,
   "metadata": {},
   "outputs": [],
   "source": [
    "head_counts_plot = sns.catplot(x='head_count', y='cuisine', data=metrics, kind='bar', height=7, aspect=1.5,\n",
    "                              order=metrics.head_count.sort_values(ascending=False).index)\n",
    "head_counts_plot.set(xticks=range(0, 122000, 20000));"
   ]
  },
  {
   "cell_type": "code",
   "execution_count": null,
   "metadata": {},
   "outputs": [],
   "source": [
    "fig, ax = plt.subplots(figsize=(16, 8))\n",
    "sns.set_color_codes('pastel')\n",
    "unique_counts_plot = sns.barplot(x='unique_count', y='cuisine', data=metrics, label='unique ings', color='b', ax=ax,\n",
    "                              order=metrics.unique_count.sort_values(ascending=False).index)\n",
    "rare_counts_plot = sns.barplot(x='rare_count', y='cuisine', data=metrics, label='rare ings', color='r', ax=ax,\n",
    "                              order=metrics.unique_count.sort_values(ascending=False).index)\n",
    "ax.legend(ncol=2, loc='lower right', frameon=True)\n",
    "unique_counts_plot.set(xticks=range(0, 1100, 100));"
   ]
  },
  {
   "cell_type": "code",
   "execution_count": null,
   "metadata": {},
   "outputs": [],
   "source": [
    "# for friendlier plotting\n",
    "def reshape_tfidfs(tfidfs):\n",
    "    pairs = []\n",
    "    for cuisine, vals in tfidfs.iterrows():\n",
    "        pairs.extend([[cuisine, v] for v in vals if v > 0.0001])\n",
    "    return pd.DataFrame(pairs, columns=['cuisine', 'tfidf'])\n",
    "tfidfs = make_tfidfs(recipes.query('cuisine != \"test\"'))\n",
    "smoothed_tfidfs = smooth_tfidfs(tfidfs, .6)\n",
    "reshaped_tfidfs = reshape_tfidfs(tfidfs)\n",
    "reshaped_smoothed_tfidfs = reshape_tfidfs(smoothed_tfidfs)"
   ]
  },
  {
   "cell_type": "code",
   "execution_count": null,
   "metadata": {},
   "outputs": [],
   "source": [
    "fig, ax = plt.subplots(figsize=(16, 8))\n",
    "all_tfidfs_plot = sns.distplot(reshaped_tfidfs.tfidf, kde=False)\n",
    "all_tfidfs_plot.set(xticks=np.arange(0, .46, .02));"
   ]
  },
  {
   "cell_type": "code",
   "execution_count": null,
   "metadata": {},
   "outputs": [],
   "source": [
    "fig, ax = plt.subplots(figsize=(16, 8))\n",
    "max_tfidf = reshaped_smoothed_tfidfs.tfidf.max()\n",
    "all_smoothed_tfidfs_plot = sns.distplot(reshaped_smoothed_tfidfs.tfidf, kde=False)\n",
    "all_smoothed_tfidfs_plot.set(xticks=np.arange(0, max_tfidf + .05, .1));"
   ]
  },
  {
   "cell_type": "code",
   "execution_count": null,
   "metadata": {},
   "outputs": [],
   "source": [
    "cuisine_tfidfs_plot = sns.catplot(y='tfidf', x='cuisine', data=reshaped_tfidfs, kind='strip', height=7, aspect=2.5,\n",
    "                             order=metrics.unique_count.sort_values(ascending=False).index)\n",
    "cuisine_tfidfs_plot.set(yticks=np.arange(0, .45, .05));"
   ]
  },
  {
   "cell_type": "code",
   "execution_count": null,
   "metadata": {},
   "outputs": [],
   "source": [
    "max_tfidf = reshaped_smoothed_tfidfs.tfidf.max()\n",
    "smoothed_cuisine_tfidfs_plot = sns.catplot(y='tfidf', x='cuisine', data=reshaped_smoothed_tfidfs, kind='strip', height=7, aspect=2.5,\n",
    "                             order=metrics.unique_count.sort_values(ascending=False).index)\n",
    "smoothed_cuisine_tfidfs_plot.set(yticks=np.arange(0, max_tfidf + .1, .05));"
   ]
  },
  {
   "cell_type": "code",
   "execution_count": null,
   "metadata": {},
   "outputs": [],
   "source": []
  },
  {
   "cell_type": "code",
   "execution_count": null,
   "metadata": {},
   "outputs": [],
   "source": []
  },
  {
   "cell_type": "code",
   "execution_count": null,
   "metadata": {},
   "outputs": [],
   "source": []
  }
 ],
 "metadata": {
  "kernelspec": {
   "display_name": "Python 3",
   "language": "python",
   "name": "python3"
  },
  "language_info": {
   "codemirror_mode": {
    "name": "ipython",
    "version": 3
   },
   "file_extension": ".py",
   "mimetype": "text/x-python",
   "name": "python",
   "nbconvert_exporter": "python",
   "pygments_lexer": "ipython3",
   "version": "3.6.7"
  }
 },
 "nbformat": 4,
 "nbformat_minor": 2
}
