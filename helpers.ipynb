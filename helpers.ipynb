{
 "cells": [
  {
   "cell_type": "code",
   "execution_count": null,
   "metadata": {},
   "outputs": [],
   "source": [
    "# invert dicts\n",
    "def invert_dict_singles(orig):\n",
    "    new = {}\n",
    "    for k, v in orig.items():\n",
    "        new[v] = new.get(v, [])\n",
    "        new[v].append(k)\n",
    "    return new\n",
    "\n",
    "def invert_dict_lists(orig):\n",
    "    new = {}\n",
    "    for k, vals in orig.items():\n",
    "        for v in vals:\n",
    "            new[v] = k\n",
    "    return new"
   ]
  },
  {
   "cell_type": "code",
   "execution_count": null,
   "metadata": {},
   "outputs": [],
   "source": [
    "from operator import itemgetter\n",
    "\n",
    "def make_freq_dict(word_counts):\n",
    "    lines = []\n",
    "    for word, freq in sorted(word_counts.items(), key=itemgetter(1), reverse=True):\n",
    "        if freq > 4 and len(word) > 3:\n",
    "            lines.append('{0} {1}\\n'.format(word, freq))\n",
    "    with open('data/frequency_dictionary.txt', 'w+', encoding='utf-8') as file:\n",
    "        for line in lines:\n",
    "            file.write(line)"
   ]
  },
  {
   "cell_type": "code",
   "execution_count": null,
   "metadata": {},
   "outputs": [],
   "source": [
    "from symspellpy.symspellpy import SymSpell, Verbosity\n",
    "\n",
    "sym_spell = SymSpell(83000, 1, 7)\n",
    "dictionary_path = 'data/frequency_dictionary.txt'\n",
    "if not sym_spell.load_dictionary(dictionary_path, 0, 1):\n",
    "    print(\"Dictionary file not found\")\n",
    "\n",
    "def correct_spelling(word):\n",
    "    suggestions = sym_spell.lookup(word, Verbosity.TOP, 1)\n",
    "    if not suggestions:\n",
    "        return word\n",
    "    return suggestions[0].term"
   ]
  },
  {
   "cell_type": "code",
   "execution_count": null,
   "metadata": {},
   "outputs": [],
   "source": [
    "counts = lambda df: df.apply(pd.Series.value_counts, axis=0)"
   ]
  },
  {
   "cell_type": "code",
   "execution_count": null,
   "metadata": {},
   "outputs": [],
   "source": [
    "def get_errors(X, y, model, sort_col=None):\n",
    "    errors = []\n",
    "    for i in range(X.shape[0]):\n",
    "        obs = X.iloc[i:i+1]\n",
    "        real = y.iloc[i]\n",
    "        y_pred = model.predict(obs)\n",
    "        if y_pred != [real]:\n",
    "            errors.append(i)\n",
    "    errs = pd.concat([X.iloc[errors], y.iloc[errors]], axis=1)\n",
    "    print('Errors:', errs.shape[0])\n",
    "    if sort_key:\n",
    "        errs.sort_values(sort_col, inplace=True)\n",
    "    return errs"
   ]
  }
 ],
 "metadata": {
  "kernelspec": {
   "display_name": "Python 3",
   "language": "python",
   "name": "python3"
  },
  "language_info": {
   "codemirror_mode": {
    "name": "ipython",
    "version": 3
   },
   "file_extension": ".py",
   "mimetype": "text/x-python",
   "name": "python",
   "nbconvert_exporter": "python",
   "pygments_lexer": "ipython3",
   "version": "3.7.0"
  }
 },
 "nbformat": 4,
 "nbformat_minor": 2
}
