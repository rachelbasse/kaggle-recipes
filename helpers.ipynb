{
 "cells": [
  {
   "cell_type": "code",
   "execution_count": null,
   "metadata": {},
   "outputs": [],
   "source": []
  },
  {
   "cell_type": "code",
   "execution_count": null,
   "metadata": {},
   "outputs": [],
   "source": []
  },
  {
   "cell_type": "code",
   "execution_count": null,
   "metadata": {},
   "outputs": [],
   "source": [
    "counts = lambda df: df.apply(pd.Series.value_counts, axis=0)\n",
    "\n",
    "def get_errors(X, y, model):\n",
    "    errors = []\n",
    "    for i in range(X.shape[0]):\n",
    "        obs = X.iloc[i:i+1]\n",
    "        real = y.iloc[i]\n",
    "        y_pred = model.predict(obs)\n",
    "        if y_pred != [real]:\n",
    "            errors.append(i)\n",
    "    errs = pd.concat([X.iloc[errors], y.iloc[errors]], axis=1, join='outer')\n",
    "    print('Errors:', errs.shape[0])\n",
    "    errs.sort_values('survived', inplace=True)\n",
    "    return errs\n",
    "\n",
    "def test_data(X, y, title, clf, sampler=None, splits=3):\n",
    "    print('\\n', '='*10, title, '='*10)\n",
    "    kfold = KFold(n_splits=splits)\n",
    "    for train_i, test_i in kfold.split(X):\n",
    "        X_train, X_test = X.iloc[train_i], X.iloc[test_i]\n",
    "        y_train, y_test = y.iloc[train_i], y.iloc[test_i]\n",
    "        if sampler:\n",
    "            X_train, y_train = sampler.fit_resample(X_train, y_train)\n",
    "        model = clf.fit(X_train, y_train)\n",
    "        preds = model.predict(X_test)\n",
    "        print(' '.join('{0: <7.7}{1}'.format(k, v) for v, k in sorted(zip(model.feature_importances_, X.columns), reverse=True)))\n",
    "        print(metrics.accuracy_score(y_test, preds))\n",
    "        test_survived, test_size = sum(y_test), y_test.shape[0]\n",
    "        print(test_survived, test_size, round(test_survived/test_size), 2)\n",
    "        report = metrics.classification_report(y_test, preds, output_dict=True)\n",
    "        print(' '.join('{0}{1:.2f}'.format(k, v) for k, v in report.items())\n",
    "\n",
    "def sample_features(X, y, clf, population, repeat, fixed=None, size=6):\n",
    "    for _ in range(repeat):\n",
    "        sample = random.sample(population, size)\n",
    "        if fixed is not None:\n",
    "            sample.append(fixed)\n",
    "        X_sample = X.iloc[:, sample]\n",
    "        test_data(X_sample, y, clf)"
   ]
  }
 ],
 "metadata": {
  "kernelspec": {
   "display_name": "Python 3",
   "language": "python",
   "name": "python3"
  },
  "language_info": {
   "codemirror_mode": {
    "name": "ipython",
    "version": 3
   },
   "file_extension": ".py",
   "mimetype": "text/x-python",
   "name": "python",
   "nbconvert_exporter": "python",
   "pygments_lexer": "ipython3",
   "version": "3.7.0"
  }
 },
 "nbformat": 4,
 "nbformat_minor": 2
}
