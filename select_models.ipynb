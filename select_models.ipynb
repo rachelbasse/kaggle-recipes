{
 "cells": [
  {
   "cell_type": "code",
   "execution_count": null,
   "metadata": {},
   "outputs": [],
   "source": [
    "# imports\n",
    "\n",
    "# extra\n",
    "import numpy as np\n",
    "import pandas as pd\n",
    "from sklearn import metrics\n",
    "from sklearn.ensemble import AdaBoostClassifier, RandomForestClassifier\n",
    "from sklearn.linear_model import LogisticRegression, SGDClassifier\n",
    "from sklearn.multiclass import OneVsRestClassifier\n",
    "from sklearn.svm import SVC\n",
    "from sklearn.tree import DecisionTreeClassifier\n",
    "from xgboost import XGBClassifier\n",
    "\n",
    "# local\n",
    "from model_helpers import *"
   ]
  },
  {
   "cell_type": "code",
   "execution_count": null,
   "metadata": {},
   "outputs": [],
   "source": [
    "train, test = load_data()"
   ]
  },
  {
   "cell_type": "code",
   "execution_count": null,
   "metadata": {},
   "outputs": [],
   "source": [
    "X = train.drop('cuisine', axis=1)\n",
    "y = train['cuisine']"
   ]
  },
  {
   "cell_type": "code",
   "execution_count": null,
   "metadata": {},
   "outputs": [],
   "source": [
    "X_train, y_train, X_val, y_val = train_validate_split(train)"
   ]
  },
  {
   "cell_type": "code",
   "execution_count": null,
   "metadata": {},
   "outputs": [],
   "source": [
    "dtc = DecisionTreeClassifier(max_depth=None)\n",
    "dtc_grid = {\n",
    "    'criterion': ['gini'], # gini\n",
    "    'class_weight': [None], # None\n",
    "    'min_samples_split': [10], # 2-60\n",
    "    'min_samples_leaf': [40], # 40\n",
    "} # best: smoothing=.6: 75.4\n",
    "\n",
    "dtcabc = DecisionTreeClassifier(max_depth=1, criterion='gini', min_samples_split=2, min_samples_leaf=2, class_weight=None)\n",
    "abc = AdaBoostClassifier(base_estimator=dtcabc)\n",
    "abc_grid = {\n",
    "    'n_estimators': [60], # 60\n",
    "    'learning_rate': [.5] # .5\n",
    "} # best: smoothing=.6: 69.4\n",
    "\n",
    "rfc = RandomForestClassifier(max_depth=None, random_state=1)\n",
    "rfc_grid = {\n",
    "    'min_samples_split': [2], # 2\n",
    "    'min_samples_leaf': [1], # 1\n",
    "    'n_estimators': [200], # 200\n",
    "    'class_weight': [None], # None\n",
    "    'criterion': ['gini'] #\n",
    "} # best: smoothing=.6: 78.1\n",
    "\n",
    "xgc = XGBClassifier(seed=1, num_class=20)\n",
    "xgc_grid = {\n",
    "    'objective': ['reg:logistic'], # reg:logistic, multi:softmax\n",
    "    'booster': ['dart'], # dart\n",
    "    'max_depth': [10], # 5, 10, 20\n",
    "    'lambda': [1], # 1, 2, 5\n",
    "    'alpha': [0], # 0, 1\n",
    "    'gamma': [0], # 0, 1\n",
    "    'eta': [.3], # range: [0,1]\n",
    "    'base_score': [.5], # .1, .5, .9\n",
    "    'min_child_weight': [0], # 0, 1, 2\n",
    "    'max_delta_step': [5], # 0, 1-10 larger\n",
    "    'subsample': [1], # range: (0,1]\n",
    "    'sample_type': ['uniform', 'weighted'], # uniform, weighted\n",
    "    'normalize_type': ['tree', 'forest'], # tree, forest\n",
    "    'rate_drop': [0] # 0-1\n",
    "} # best: smoothing=.6: 80.7\n",
    "\n",
    "lrc = LogisticRegression(random_state=1)\n",
    "lrc_grid = {\n",
    "    'C': [145, 150, 155], # 150\n",
    "    'fit_intercept': [True], # True\n",
    "    'solver': ['lbfgs'], # lbfgs\n",
    "    'penalty': ['l2'], # l2 (l2 only: newton-cg, sag, lbfgs)\n",
    "    'multi_class': ['multinomial'], # multinomial (multinomial: newton-cg, sag, saga, lbfgs)\n",
    "    'class_weight': ['balanced'], # None\n",
    "    'dual': [False], # False\n",
    "    'max_iter': [500] # 500\n",
    "} # best: smoothing=.6: 80.3\n",
    "\n",
    "sgd = SGDClassifier(random_state=1, fit_intercept=True, penalty='l2')\n",
    "sgd_grid = {\n",
    "    'loss': ['log'], # log\n",
    "    'alpha': [1e-6], # 1e-6\n",
    "    'max_iter': [1100] # 1100\n",
    "} # best: smoothing=.6: 79.5\n",
    "\n",
    "svc = SVC(random_state=1, probability=False)\n",
    "svc_grid = {\n",
    "    'C': [10, 15, 20], # 40\n",
    "    'kernel': ['rbf'], # rbf\n",
    "    'gamma': [.5, 1], # 1.4\n",
    "    'max_iter': [2000], # 2000\n",
    "    'shrinking': [True], # True\n",
    "    'class_weight': [None], # None\n",
    "    'decision_function_shape': ['ovr'] # ‘ovr’\n",
    "} # smoothing=.2: 80.8"
   ]
  },
  {
   "cell_type": "code",
   "execution_count": null,
   "metadata": {
    "scrolled": false
   },
   "outputs": [],
   "source": [
    "test_hyperparams(svc, svc_grid, metrics.accuracy_score, X_train, y_train, X_val, y_val)"
   ]
  },
  {
   "cell_type": "code",
   "execution_count": null,
   "metadata": {},
   "outputs": [],
   "source": [
    "svc = SVC(C=20, gamma=.5, max_iter=2000, kernel='rbf', shrinking=True, class_weight=None, random_state=1, probability=False)"
   ]
  },
  {
   "cell_type": "code",
   "execution_count": null,
   "metadata": {},
   "outputs": [],
   "source": [
    "model = svc.fit(X, y)\n",
    "preds = model.predict(test)"
   ]
  },
  {
   "cell_type": "code",
   "execution_count": null,
   "metadata": {},
   "outputs": [],
   "source": [
    "output = pd.DataFrame(preds, index=test.index, columns=['cuisine'])\n",
    "output.head()"
   ]
  },
  {
   "cell_type": "code",
   "execution_count": null,
   "metadata": {},
   "outputs": [],
   "source": [
    "compare = pd.concat([output, answers], axis='columns')\n",
    "compare.columns = ['pred', 'real']"
   ]
  },
  {
   "cell_type": "code",
   "execution_count": null,
   "metadata": {},
   "outputs": [],
   "source": [
    "errors = compare.query('pred != real')"
   ]
  },
  {
   "cell_type": "code",
   "execution_count": null,
   "metadata": {},
   "outputs": [],
   "source": [
    "len(errors)"
   ]
  },
  {
   "cell_type": "code",
   "execution_count": null,
   "metadata": {},
   "outputs": [],
   "source": []
  },
  {
   "cell_type": "code",
   "execution_count": null,
   "metadata": {},
   "outputs": [],
   "source": [
    "# id, cuisine\n",
    "output.to_csv('preds/drop_bad_it_us_smoothing2.csv', header=True, encoding='utf-8')"
   ]
  },
  {
   "cell_type": "code",
   "execution_count": null,
   "metadata": {},
   "outputs": [],
   "source": []
  }
 ],
 "metadata": {
  "kernelspec": {
   "display_name": "Python 3",
   "language": "python",
   "name": "python3"
  },
  "language_info": {
   "codemirror_mode": {
    "name": "ipython",
    "version": 3
   },
   "file_extension": ".py",
   "mimetype": "text/x-python",
   "name": "python",
   "nbconvert_exporter": "python",
   "pygments_lexer": "ipython3",
   "version": "3.6.7"
  }
 },
 "nbformat": 4,
 "nbformat_minor": 2
}
