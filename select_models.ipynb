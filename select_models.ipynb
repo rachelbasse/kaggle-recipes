{
 "cells": [
  {
   "cell_type": "code",
   "execution_count": null,
   "metadata": {},
   "outputs": [],
   "source": [
    "# imports\n",
    "\n",
    "# extra\n",
    "from imblearn.pipeline import Pipeline\n",
    "from imblearn.over_sampling import SMOTE\n",
    "import pandas as pd\n",
    "from sklearn.ensemble import RandomForestClassifier, VotingClassifier\n",
    "from sklearn.linear_model import LogisticRegression\n",
    "from sklearn.model_selection import GridSearchCV\n",
    "from sklearn.neighbors import KNeighborsClassifier\n",
    "from sklearn.preprocessing import MinMaxScaler, FunctionTransformer\n",
    "from sklearn.svm import SVC\n",
    "\n",
    "# local\n",
    "from model_helpers import *\n",
    "\n",
    "# display settings\n",
    "pd.set_option('display.max_columns', 21)\n",
    "pd.set_option('display.max_colwidth', 400)\n",
    "pd.set_option('display.precision', 4)\n",
    "pd.set_option('display.width', 1600)"
   ]
  },
  {
   "cell_type": "code",
   "execution_count": null,
   "metadata": {},
   "outputs": [],
   "source": [
    "train, test = load_data()"
   ]
  },
  {
   "cell_type": "code",
   "execution_count": null,
   "metadata": {},
   "outputs": [],
   "source": [
    "X = train.drop(columns=['cuisine'])\n",
    "y = train['cuisine']"
   ]
  },
  {
   "cell_type": "code",
   "execution_count": null,
   "metadata": {},
   "outputs": [],
   "source": [
    "sample_sizes = {\n",
    "    'italian': 8000, # 7838\n",
    "    'mexican': 6500, # 6438\n",
    "    'southern_us': 5000, # 4320\n",
    "    'indian': 3100, # 3003\n",
    "    'chinese': 3000, # 2673\n",
    "    'french': 3000, # 2646\n",
    "    'cajun_creole': 1900, # 1546\n",
    "    'thai': 1900, # 1539\n",
    "    'japanese': 1900, # 1423\n",
    "    'greek': 1400, # 1175\n",
    "    'spanish': 1200, # 989\n",
    "    'korean': 1000, # 830\n",
    "    'vietnamese': 1000, # 825\n",
    "    'moroccan': 1000, # 821\n",
    "    'british': 1000, # 804\n",
    "    'filipino': 1000, # 755\n",
    "    'irish': 900, # 667\n",
    "    'jamaican': 800, # 526\n",
    "    'russian': 800, # 489\n",
    "    'brazilian': 800, # 467\n",
    "}\n",
    "smote = SMOTE(sampling_strategy=sample_sizes, k_neighbors=20, random_state=1, n_jobs=-1)"
   ]
  },
  {
   "cell_type": "code",
   "execution_count": null,
   "metadata": {},
   "outputs": [],
   "source": [
    "def reweight_features(features):\n",
    "    reweighted = features.copy()\n",
    "    reweighted[:, 0:40] *= 3\n",
    "    reweighted[:, 60:100] *= 2.5\n",
    "    return reweighted"
   ]
  },
  {
   "cell_type": "code",
   "execution_count": null,
   "metadata": {},
   "outputs": [],
   "source": [
    "svc = SVC(kernel='rbf', shrinking=True, class_weight=None, max_iter=-1, random_state=1, cache_size=350, probability=False)\n",
    "lrc = LogisticRegression(solver='newton-cg', penalty='l2', multi_class='multinomial', fit_intercept=True, class_weight=None, random_state=1, n_jobs=-1)\n",
    "rfc = RandomForestClassifier(max_depth=None, n_estimators=600, criterion='gini', class_weight=None, random_state=1)\n",
    "knc = KNeighborsClassifier(weights='distance', metric='euclidean', algorithm='auto', n_jobs=-1)\n",
    "pipe_grid = {\n",
    "    #'svc__C': [5],\n",
    "    #'svc__gamma': [.02, .1],\n",
    "    #'lrc__C': [1, 50],\n",
    "    #'rfc__min_samples_split': [10],\n",
    "    #'rfc__min_samples_leaf': [2],\n",
    "    #'knc__n_neighbors': [30, 50],\n",
    "}\n",
    "pipe = Pipeline([\n",
    "    ('scale', MinMaxScaler()),\n",
    "    ('reweight', FunctionTransformer(reweight_features)),\n",
    "    ('smote', smote),\n",
    "    ('bc', bc)\n",
    "])\n",
    "search = GridSearchCV(pipe, pipe_grid, cv=3, scoring='accuracy', return_train_score=True, refit=False, n_jobs=-1, verbose=2)\n",
    "search.fit(X, y)\n",
    "search_results = pd.DataFrame.from_dict(search.cv_results_, orient='columns')\n",
    "search_results[['params', 'mean_test_score', 'mean_train_score']].sort_values('mean_test_score')"
   ]
  },
  {
   "cell_type": "code",
   "execution_count": null,
   "metadata": {},
   "outputs": [],
   "source": [
    "estimators = {\n",
    "    'svc': SVC(C=1, gamma=.1, kernel='rbf', class_weight=None, shrinking=True, max_iter=-1, probability=True, cache_size=300),\n",
    "    'lrc': LogisticRegression(C=20, solver='newton-cg', penalty='l2', multi_class='multinomial', class_weight=None, fit_intercept=True, max_iter=200),\n",
    "    'rfc': RandomForestClassifier(min_samples_split=30, min_samples_leaf=12, n_estimators=800, max_depth=None, class_weight=None, criterion='gini'),\n",
    "    'knc': KNeighborsClassifier(n_neighbors=20, metric='euclidean', p=2, weights='distance', n_jobs=-1),\n",
    "}\n",
    "overfit_estimators = {\n",
    "    'svc': SVC(C=5, gamma=.02, kernel='rbf', class_weight=None, shrinking=True, max_iter=-1, probability=True, cache_size=300),\n",
    "    'lrc': LogisticRegression(C=1, solver='newton-cg', penalty='l2', multi_class='multinomial', class_weight=None, fit_intercept=True, max_iter=200),\n",
    "    'rfc': RandomForestClassifier(min_samples_split=10, min_samples_leaf=2, n_estimators=800, max_depth=None, class_weight=None, criterion='gini'),\n",
    "    'knc': KNeighborsClassifier(n_neighbors=30, metric='euclidean', p=2, weights='distance', n_jobs=-1),\n",
    "}\n",
    "voting = VotingClassifier([(k, v) for k, v in overfit_estimators.items()], voting='soft', n_jobs=-1)"
   ]
  },
  {
   "cell_type": "code",
   "execution_count": null,
   "metadata": {},
   "outputs": [],
   "source": [
    "pipe = Pipeline([\n",
    "    ('scale', MinMaxScaler()),\n",
    "    ('reweight', FunctionTransformer(reweight_features)),\n",
    "    ('smote', smote),\n",
    "    ('voting', voting)\n",
    "])\n",
    "model = pipe.fit(X, y)\n",
    "print(model.score(X, y))\n",
    "preds = model.predict(test)\n",
    "output = pd.DataFrame(preds, index=test.index, columns=['cuisine'])"
   ]
  },
  {
   "cell_type": "code",
   "execution_count": null,
   "metadata": {},
   "outputs": [],
   "source": [
    "compare = pd.concat([output, answers, baseline], axis='columns')\n",
    "compare.columns = ['pred', 'real', 'base']\n",
    "errors = compare.query('pred != real')\n",
    "changes = compare.query('pred != base')\n",
    "len(errors), len(changes) # 1313, 1296, 1286, 1280, 1251"
   ]
  },
  {
   "cell_type": "code",
   "execution_count": null,
   "metadata": {},
   "outputs": [],
   "source": []
  },
  {
   "cell_type": "code",
   "execution_count": null,
   "metadata": {},
   "outputs": [],
   "source": [
    "output.to_csv('preds/scaled_reweighted.csv', header=True, encoding='utf-8')"
   ]
  },
  {
   "cell_type": "code",
   "execution_count": null,
   "metadata": {},
   "outputs": [],
   "source": []
  }
 ],
 "metadata": {
  "kernelspec": {
   "display_name": "Python 3",
   "language": "python",
   "name": "python3"
  },
  "language_info": {
   "codemirror_mode": {
    "name": "ipython",
    "version": 3
   },
   "file_extension": ".py",
   "mimetype": "text/x-python",
   "name": "python",
   "nbconvert_exporter": "python",
   "pygments_lexer": "ipython3",
   "version": "3.6.7"
  }
 },
 "nbformat": 4,
 "nbformat_minor": 2
}
