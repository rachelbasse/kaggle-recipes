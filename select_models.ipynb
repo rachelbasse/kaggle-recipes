{
 "cells": [
  {
   "cell_type": "code",
   "execution_count": null,
   "metadata": {},
   "outputs": [],
   "source": [
    "# imports\n",
    "\n",
    "# extra\n",
    "import pandas as pd\n",
    "from parfit import bestFit\n",
    "from sklearn import metrics\n",
    "from sklearn.ensemble import VotingClassifier, RandomForestClassifier\n",
    "from sklearn.linear_model import LogisticRegression\n",
    "from sklearn.model_selection import ParameterGrid, GridSearchCV\n",
    "from sklearn.neighbors import KNeighborsClassifier\n",
    "from sklearn.pipeline import Pipeline\n",
    "from sklearn.preprocessing import StandardScaler\n",
    "from sklearn.svm import SVC\n",
    "\n",
    "# local\n",
    "from model_helpers import *"
   ]
  },
  {
   "cell_type": "code",
   "execution_count": null,
   "metadata": {},
   "outputs": [],
   "source": [
    "train, test = load_data()"
   ]
  },
  {
   "cell_type": "code",
   "execution_count": null,
   "metadata": {},
   "outputs": [],
   "source": [
    "X = train.drop(columns=['cuisine'])\n",
    "y = train['cuisine']"
   ]
  },
  {
   "cell_type": "code",
   "execution_count": null,
   "metadata": {},
   "outputs": [],
   "source": [
    "svc = SVC(shrinking=True, max_iter=-1, random_state=1)\n",
    "svc_grid = {\n",
    "    'C': [6, 8, 10, 12],\n",
    "    'gamma': [.6, 1.2],\n",
    "    'kernel': ['rbf'],\n",
    "    'class_weight': [None]\n",
    "}\n",
    "lrc = LogisticRegression(fit_intercept=True, random_state=1, n_jobs=-1)\n",
    "lrc_grid = {\n",
    "    'C': [1, 10, 100, 300],\n",
    "    'solver': ['newton-cg'],\n",
    "    'penalty': ['l2'], # (l2 only: newton-cg, sag, lbfgs)\n",
    "    'multi_class': ['multinomial'],\n",
    "    'class_weight': [None],\n",
    "}\n",
    "rfc = RandomForestClassifier(max_depth=None, random_state=1)\n",
    "rfc_grid = {\n",
    "    'min_samples_split': [10],\n",
    "    'min_samples_leaf': [6],\n",
    "    'n_estimators': [600],\n",
    "    'class_weight': [None],\n",
    "    'criterion': ['gini']\n",
    "}\n",
    "knc = KNeighborsClassifier(n_jobs=-1, algorithm='auto')\n",
    "knc_grid = {\n",
    "    'n_neighbors': [5, 15, 25],\n",
    "    'p': [2],\n",
    "    'metric': ['euclidean'],\n",
    "    'weights': ['distance'],\n",
    "}"
   ]
  },
  {
   "cell_type": "code",
   "execution_count": null,
   "metadata": {},
   "outputs": [],
   "source": [
    "best_params, best_score, all_params, all_scores = bestFit(lrc, ParameterGrid(lrc_grid), X, y, nfolds=3,\n",
    "                                                          metric=metrics.accuracy_score, greater_is_better=True, scoreLabel='Acc')\n",
    "print(best_params, best_score)"
   ]
  },
  {
   "cell_type": "code",
   "execution_count": null,
   "metadata": {},
   "outputs": [],
   "source": [
    "estimators = {\n",
    "    'svc': SVC(C=6, gamma=.6, kernel='rbf', class_weight=None, shrinking=True, max_iter=-1, probability=True),\n",
    "    'lrc': LogisticRegression(C=80, solver='newton-cg', penalty='l2', multi_class='multinomial', class_weight=None, fit_intercept=True),\n",
    "    'rfc': RandomForestClassifier(min_samples_split=10, min_samples_leaf=6, n_estimators=800, max_depth=None, class_weight=None, criterion='gini'),\n",
    "    'knc': KNeighborsClassifier(n_neighbors=25, metric='euclidean', p=2, weights='distance', n_jobs=-1)\n",
    "}\n",
    "clf = VotingClassifier([(k, v) for k, v in estimators.items()], voting='soft', n_jobs=-1)"
   ]
  },
  {
   "cell_type": "code",
   "execution_count": null,
   "metadata": {},
   "outputs": [],
   "source": [
    "clf = SVC(C=6, gamma=.6, kernel='rbf', class_weight=None, shrinking=True, max_iter=-1, probability=True)"
   ]
  },
  {
   "cell_type": "code",
   "execution_count": null,
   "metadata": {},
   "outputs": [],
   "source": [
    "model = clf.fit(X, y)\n",
    "preds = model.predict(test)\n",
    "output = pd.DataFrame(preds, index=test.index, columns=['cuisine'])\n",
    "model.score(X, y)"
   ]
  },
  {
   "cell_type": "code",
   "execution_count": null,
   "metadata": {},
   "outputs": [],
   "source": [
    "compare = pd.concat([output, answers], axis='columns')\n",
    "compare.columns = ['pred', 'real']\n",
    "errors = compare.query('pred != real')\n",
    "len(errors) # 1497, 1422"
   ]
  },
  {
   "cell_type": "code",
   "execution_count": null,
   "metadata": {},
   "outputs": [],
   "source": [
    "# id, cuisine\n",
    "output.to_csv('preds/stacked.csv', header=True, encoding='utf-8')"
   ]
  },
  {
   "cell_type": "code",
   "execution_count": null,
   "metadata": {},
   "outputs": [],
   "source": []
  }
 ],
 "metadata": {
  "kernelspec": {
   "display_name": "Python 3",
   "language": "python",
   "name": "python3"
  },
  "language_info": {
   "codemirror_mode": {
    "name": "ipython",
    "version": 3
   },
   "file_extension": ".py",
   "mimetype": "text/x-python",
   "name": "python",
   "nbconvert_exporter": "python",
   "pygments_lexer": "ipython3",
   "version": "3.6.7"
  }
 },
 "nbformat": 4,
 "nbformat_minor": 2
}
