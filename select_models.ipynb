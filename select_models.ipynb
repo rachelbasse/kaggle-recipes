{
 "cells": [
  {
   "cell_type": "code",
   "execution_count": null,
   "metadata": {},
   "outputs": [],
   "source": [
    "# imports\n",
    "\n",
    "# extra\n",
    "import pandas as pd\n",
    "from parfit import bestFit\n",
    "from sklearn import metrics\n",
    "from sklearn.ensemble import AdaBoostClassifier, RandomForestClassifier, VotingClassifier\n",
    "from sklearn.linear_model import LogisticRegression\n",
    "from sklearn.model_selection import ParameterGrid, GridSearchCV\n",
    "from sklearn.neighbors import KNeighborsClassifier\n",
    "from sklearn.svm import SVC\n",
    "from sklearn.tree import DecisionTreeClassifier\n",
    "\n",
    "# local\n",
    "from model_helpers import *"
   ]
  },
  {
   "cell_type": "code",
   "execution_count": null,
   "metadata": {},
   "outputs": [],
   "source": [
    "train, test = load_data()"
   ]
  },
  {
   "cell_type": "code",
   "execution_count": null,
   "metadata": {},
   "outputs": [],
   "source": [
    "X = train.drop(columns=['cuisine'])\n",
    "y = train['cuisine']"
   ]
  },
  {
   "cell_type": "code",
   "execution_count": null,
   "metadata": {},
   "outputs": [],
   "source": [
    "easy_classes = {\n",
    "    'brazilian': 'west',\n",
    "    'british': 'west',\n",
    "    'cajun_creole': 'west',\n",
    "    'chinese': 'east',\n",
    "    'filipino': 'east',\n",
    "    'french': 'west',\n",
    "    'greek': 'west',\n",
    "    'indian': 'east',\n",
    "    'irish': 'west',\n",
    "    'italian': 'west',\n",
    "    'jamaican': 'west',\n",
    "    'japanese': 'east',\n",
    "    'korean': 'east',\n",
    "    'mexican': 'west',\n",
    "    'moroccan': 'west',\n",
    "    'russian': 'west',\n",
    "    'southern_us': 'west',\n",
    "    'spanish': 'west',\n",
    "    'thai': 'east',\n",
    "    'vietnamese': 'east'\n",
    "}\n",
    "y_easy = y.map(lambda cuisine: easy_classes[cuisine])"
   ]
  },
  {
   "cell_type": "code",
   "execution_count": null,
   "metadata": {},
   "outputs": [],
   "source": [
    "svc = SVC(shrinking=True, max_iter=-1, random_state=1)\n",
    "svc_grid = {\n",
    "    'C': [4, 6, 8],\n",
    "    'gamma': [.1, .3],\n",
    "    'kernel': ['rbf'],\n",
    "    'class_weight': [None]\n",
    "}\n",
    "lrc = LogisticRegression(fit_intercept=True, random_state=1, n_jobs=-1)\n",
    "lrc_grid = {\n",
    "    'C': [1, 10, 50, 100],\n",
    "    'solver': ['newton-cg'],\n",
    "    'penalty': ['l2'], # (l2 only: newton-cg, sag, lbfgs)\n",
    "    'multi_class': ['multinomial'],\n",
    "    'class_weight': [None],\n",
    "}\n",
    "rfc = RandomForestClassifier(max_depth=None, random_state=1)\n",
    "rfc_grid = {\n",
    "    'min_samples_split': [10, 30],\n",
    "    'min_samples_leaf': [6, 10],\n",
    "    'n_estimators': [600],\n",
    "    'class_weight': [None],\n",
    "    'criterion': ['gini']\n",
    "}\n",
    "knc = KNeighborsClassifier(n_jobs=-1, algorithm='auto')\n",
    "knc_grid = {\n",
    "    'n_neighbors': [5, 10, 20],\n",
    "    'p': [2],\n",
    "    'metric': ['euclidean'],\n",
    "    'weights': ['distance'],\n",
    "}\n",
    "dtcabc = DecisionTreeClassifier(max_depth=1, criterion='gini', min_samples_split=2, min_samples_leaf=2, class_weight=None)\n",
    "abc = AdaBoostClassifier(base_estimator=dtcabc)\n",
    "abc_grid = {\n",
    "    'n_estimators': [50, 500], # 60\n",
    "    'learning_rate': [.1, 1, 10] # .5\n",
    "}"
   ]
  },
  {
   "cell_type": "code",
   "execution_count": null,
   "metadata": {},
   "outputs": [],
   "source": [
    "best_params, best_score, all_params, all_scores = bestFit(svc, ParameterGrid(svc_grid), X, y, nfolds=3,\n",
    "                                                          metric=metrics.accuracy_score, greater_is_better=True, scoreLabel='Acc')\n",
    "print(best_params, best_score)"
   ]
  },
  {
   "cell_type": "code",
   "execution_count": null,
   "metadata": {},
   "outputs": [],
   "source": [
    "estimators_easy = {\n",
    "    'svc': SVC(C=100, gamma=.1, kernel='rbf', class_weight=None, shrinking=True, max_iter=-1, probability=True),\n",
    "    'lrc': LogisticRegression(C=100, solver='newton-cg', penalty='l2', multi_class='multinomial', class_weight=None, fit_intercept=True),\n",
    "    'rfc': RandomForestClassifier(min_samples_split=10, min_samples_leaf=6, n_estimators=800, max_depth=None, class_weight=None, criterion='gini'),\n",
    "    'knc': KNeighborsClassifier(n_neighbors=6, metric='euclidean', p=2, weights='distance', n_jobs=-1)\n",
    "}\n",
    "clf_easy = VotingClassifier([(k, v) for k, v in estimators_easy.items()], voting='soft', n_jobs=-1)"
   ]
  },
  {
   "cell_type": "code",
   "execution_count": null,
   "metadata": {},
   "outputs": [],
   "source": [
    "model_easy = clf_easy.fit(X, y_easy)\n",
    "print(model_easy.score(X, y_easy))\n",
    "preds_easy = pd.DataFrame(model_easy.predict(test), index=test.index, columns=['cuisine'])"
   ]
  },
  {
   "cell_type": "code",
   "execution_count": null,
   "metadata": {},
   "outputs": [],
   "source": [
    "east_test_i = preds_easy.query('cuisine == \"east\"').index\n",
    "west_test_i = preds_easy.query('cuisine == \"west\"').index\n",
    "test_east, test_west = test.loc[east_test_i], test.loc[west_test_i]"
   ]
  },
  {
   "cell_type": "code",
   "execution_count": null,
   "metadata": {},
   "outputs": [],
   "source": [
    "y_east, y_west = y[y_easy == 'east'], y[y_easy == 'west']\n",
    "X_east, X_west = X.loc[y_east.index], X.loc[y_west.index]"
   ]
  },
  {
   "cell_type": "code",
   "execution_count": null,
   "metadata": {},
   "outputs": [],
   "source": [
    "estimators_east = {\n",
    "    'svc': SVC(C=8, gamma=.1, kernel='rbf', class_weight=None, shrinking=True, max_iter=-1, probability=True),\n",
    "    'lrc': LogisticRegression(C=50, solver='newton-cg', penalty='l2', multi_class='multinomial', class_weight=None, fit_intercept=True),\n",
    "    'rfc': RandomForestClassifier(min_samples_split=10, min_samples_leaf=6, n_estimators=800, max_depth=None, class_weight=None, criterion='gini'),\n",
    "    'knc': KNeighborsClassifier(n_neighbors=15, metric='euclidean', p=2, weights='distance', n_jobs=-1)\n",
    "}\n",
    "clf_east = VotingClassifier([(k, v) for k, v in estimators_east.items()], voting='soft', n_jobs=-1)"
   ]
  },
  {
   "cell_type": "code",
   "execution_count": null,
   "metadata": {},
   "outputs": [],
   "source": [
    "model_east = clf_east.fit(X_east, y_east)\n",
    "print(model_east.score(X_east, y_east))\n",
    "preds_east = pd.DataFrame(model_east.predict(test_east), index=test_east.index, columns=['cuisine'])"
   ]
  },
  {
   "cell_type": "code",
   "execution_count": null,
   "metadata": {},
   "outputs": [],
   "source": [
    "estimators_west = {\n",
    "    'svc': SVC(C=8, gamma=.3, kernel='rbf', class_weight=None, shrinking=True, max_iter=-1, probability=True),\n",
    "    'lrc': LogisticRegression(C=10, solver='newton-cg', penalty='l2', multi_class='multinomial', class_weight=None, fit_intercept=True),\n",
    "    'rfc': RandomForestClassifier(min_samples_split=10, min_samples_leaf=6, n_estimators=800, max_depth=None, class_weight=None, criterion='gini'),\n",
    "    'knc': KNeighborsClassifier(n_neighbors=20, metric='euclidean', p=2, weights='distance', n_jobs=-1)\n",
    "}\n",
    "clf_west = VotingClassifier([(k, v) for k, v in estimators_west.items()], voting='soft', n_jobs=-1)"
   ]
  },
  {
   "cell_type": "code",
   "execution_count": null,
   "metadata": {},
   "outputs": [],
   "source": [
    "model_west = clf_west.fit(X_west, y_west)\n",
    "print(model_west.score(X_west, y_west))\n",
    "preds_west = pd.DataFrame(model_west.predict(test_west), index=test_west.index, columns=['cuisine'])"
   ]
  },
  {
   "cell_type": "code",
   "execution_count": null,
   "metadata": {},
   "outputs": [],
   "source": [
    "output = pd.concat([preds_east, preds_west], axis='index')"
   ]
  },
  {
   "cell_type": "code",
   "execution_count": null,
   "metadata": {},
   "outputs": [],
   "source": [
    "estimators = {\n",
    "    'svc': SVC(C=6, gamma=.3, kernel='rbf', class_weight=None, shrinking=True, max_iter=-1, probability=True),\n",
    "    'lrc': LogisticRegression(C=50, solver='newton-cg', penalty='l2', multi_class='multinomial', class_weight=None, fit_intercept=True),\n",
    "    'rfc': RandomForestClassifier(min_samples_split=10, min_samples_leaf=6, n_estimators=800, max_depth=None, class_weight=None, criterion='gini'),\n",
    "    'knc': KNeighborsClassifier(n_neighbors=10, metric='euclidean', p=2, weights='distance', n_jobs=-1)\n",
    "}\n",
    "clf = VotingClassifier([(k, v) for k, v in estimators.items()], voting='soft', n_jobs=-1)"
   ]
  },
  {
   "cell_type": "code",
   "execution_count": null,
   "metadata": {},
   "outputs": [],
   "source": [
    "model = clf.fit(X, y)\n",
    "print(model.score(X, y))\n",
    "output = pd.DataFrame(model.predict(test), index=test.index, columns=['cuisine'])"
   ]
  },
  {
   "cell_type": "code",
   "execution_count": null,
   "metadata": {},
   "outputs": [],
   "source": []
  },
  {
   "cell_type": "code",
   "execution_count": null,
   "metadata": {},
   "outputs": [],
   "source": [
    "probs = pd.DataFrame(model.predict_proba(test), index=test.index, columns=model.classes_)\n",
    "max_probs = probs.max(axis='columns')\n",
    "high_test = test.loc[max_probs[max_probs > .95].index]\n",
    "high_test_preds = pd.Series(model.predict(test), index=test.index).loc[high_test.index]\n",
    "X_new = pd.concat([X, high_test], axis='index')\n",
    "y_new = pd.concat([y, high_test_preds], axis='index')\n",
    "model2 = clf.fit(X_new, y_new)\n",
    "print(model2.score(X_new, y_new))\n",
    "output2 = pd.DataFrame(model2.predict(test), index=test.index, columns=['cuisine'])"
   ]
  },
  {
   "cell_type": "code",
   "execution_count": null,
   "metadata": {},
   "outputs": [],
   "source": []
  },
  {
   "cell_type": "code",
   "execution_count": null,
   "metadata": {},
   "outputs": [],
   "source": [
    "compare = pd.concat([output, output_easy, answers], axis='columns')\n",
    "compare.columns = ['pred', 'pred2', 'real']\n",
    "errors = compare.query('pred != real or pred2 != real')\n",
    "len(errors)"
   ]
  },
  {
   "cell_type": "code",
   "execution_count": null,
   "metadata": {},
   "outputs": [],
   "source": [
    "errors"
   ]
  },
  {
   "cell_type": "code",
   "execution_count": null,
   "metadata": {},
   "outputs": [],
   "source": []
  },
  {
   "cell_type": "code",
   "execution_count": null,
   "metadata": {},
   "outputs": [],
   "source": [
    "compare = pd.concat([output2, answers], axis='columns')\n",
    "compare.columns = ['pred', 'real']\n",
    "errors = compare.query('pred != real')\n",
    "len(errors) # 1391, easy:1357, 1333, 1319"
   ]
  },
  {
   "cell_type": "code",
   "execution_count": null,
   "metadata": {},
   "outputs": [],
   "source": []
  },
  {
   "cell_type": "code",
   "execution_count": null,
   "metadata": {},
   "outputs": [],
   "source": [
    "# id, cuisine\n",
    "output2.to_csv('preds/stacked_iter.csv', header=True, encoding='utf-8')"
   ]
  },
  {
   "cell_type": "code",
   "execution_count": null,
   "metadata": {},
   "outputs": [],
   "source": []
  }
 ],
 "metadata": {
  "kernelspec": {
   "display_name": "Python 3",
   "language": "python",
   "name": "python3"
  },
  "language_info": {
   "codemirror_mode": {
    "name": "ipython",
    "version": 3
   },
   "file_extension": ".py",
   "mimetype": "text/x-python",
   "name": "python",
   "nbconvert_exporter": "python",
   "pygments_lexer": "ipython3",
   "version": "3.6.7"
  }
 },
 "nbformat": 4,
 "nbformat_minor": 2
}
