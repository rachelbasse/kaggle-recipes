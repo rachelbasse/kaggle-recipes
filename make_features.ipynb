{
 "cells": [
  {
   "cell_type": "code",
   "execution_count": null,
   "metadata": {},
   "outputs": [],
   "source": [
    "# imports\n",
    "\n",
    "# standard\n",
    "from collections import Counter, defaultdict\n",
    "from operator import itemgetter\n",
    "import re\n",
    "\n",
    "# extra\n",
    "import numpy as np\n",
    "import pandas as pd\n",
    "\n",
    "# local\n",
    "from feature_helpers import *\n",
    "\n",
    "# display settings\n",
    "pd.set_option('display.max_columns', 21)\n",
    "pd.set_option('display.max_colwidth', 400)\n",
    "pd.set_option('display.precision', 4)\n",
    "pd.set_option('display.width', 1600)"
   ]
  },
  {
   "cell_type": "code",
   "execution_count": null,
   "metadata": {},
   "outputs": [],
   "source": [
    "recipes = load_clean_data()"
   ]
  },
  {
   "cell_type": "code",
   "execution_count": null,
   "metadata": {},
   "outputs": [],
   "source": [
    "def get_recipe_features(ings):\n",
    "    features = []\n",
    "    for ing in ings:\n",
    "        head = ing.heads[0]\n",
    "        mods = ing.heads[1:]\n",
    "        features.extend([head])\n",
    "        features.extend(['{}-{}'.format(head, mod) for mod in mods])\n",
    "        if ing.states:\n",
    "            features.extend(['_state'] + ['_state-{}'.format(state) for state in ing.states])\n",
    "        if ing.brands:\n",
    "            features.extend(['_brand'] + ['_brand-{}'.format(brand) for brand in ing.brands])\n",
    "        if ing.langs:\n",
    "            features.extend(['_lang'] + ['_lang-{}'.format(lang) for lang in ing.langs])\n",
    "    return features"
   ]
  },
  {
   "cell_type": "code",
   "execution_count": null,
   "metadata": {},
   "outputs": [],
   "source": [
    "recipe_features = recipes.ingredients.map(get_recipe_features)"
   ]
  },
  {
   "cell_type": "code",
   "execution_count": null,
   "metadata": {},
   "outputs": [],
   "source": [
    "recipes.ingredients = recipe_features"
   ]
  },
  {
   "cell_type": "code",
   "execution_count": null,
   "metadata": {},
   "outputs": [],
   "source": [
    "all_features = sorted(set([ing for ings in recipes.ingredients for ing in ings]))\n",
    "feature_array = np.zeros([len(recipes), len(all_features)], dtype=np.uint8)\n",
    "feature_index = {feature: i for i, feature in enumerate(all_features)}\n",
    "for row_i, features in enumerate(recipes.ingredients):\n",
    "    for feature in features:\n",
    "        feature_array[row_i, feature_index[feature]] = 1"
   ]
  },
  {
   "cell_type": "code",
   "execution_count": null,
   "metadata": {},
   "outputs": [],
   "source": [
    "feature_df = pd.DataFrame(feature_array, index=recipes.index, columns=all_features)"
   ]
  },
  {
   "cell_type": "code",
   "execution_count": null,
   "metadata": {},
   "outputs": [],
   "source": [
    "feature_counts = feature_df.sum(axis='index')\n",
    "rare_features = feature_counts[feature_counts < 10]\n",
    "len(rare_features)"
   ]
  },
  {
   "cell_type": "code",
   "execution_count": null,
   "metadata": {},
   "outputs": [],
   "source": [
    "feature_df.shape"
   ]
  },
  {
   "cell_type": "code",
   "execution_count": null,
   "metadata": {},
   "outputs": [],
   "source": [
    "feature_df = feature_df.drop(columns=rare_features.index)\n",
    "feature_df.shape"
   ]
  },
  {
   "cell_type": "code",
   "execution_count": null,
   "metadata": {},
   "outputs": [],
   "source": [
    "output = pd.concat([recipes, feature_df], axis='columns')"
   ]
  },
  {
   "cell_type": "code",
   "execution_count": null,
   "metadata": {},
   "outputs": [],
   "source": [
    "save_output(output)"
   ]
  },
  {
   "cell_type": "code",
   "execution_count": null,
   "metadata": {},
   "outputs": [],
   "source": []
  }
 ],
 "metadata": {
  "kernelspec": {
   "display_name": "Python 3",
   "language": "python",
   "name": "python3"
  },
  "language_info": {
   "codemirror_mode": {
    "name": "ipython",
    "version": 3
   },
   "file_extension": ".py",
   "mimetype": "text/x-python",
   "name": "python",
   "nbconvert_exporter": "python",
   "pygments_lexer": "ipython3",
   "version": "3.6.7"
  }
 },
 "nbformat": 4,
 "nbformat_minor": 2
}
