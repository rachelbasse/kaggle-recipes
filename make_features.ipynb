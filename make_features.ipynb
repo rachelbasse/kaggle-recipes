{
 "cells": [
  {
   "cell_type": "code",
   "execution_count": null,
   "metadata": {},
   "outputs": [],
   "source": [
    "# imports\n",
    "\n",
    "#standard\n",
    "from collections import deque\n",
    "from math import log\n",
    "\n",
    "# extra\n",
    "import pandas as pd\n",
    "from sklearn.feature_extraction.text import TfidfVectorizer\n",
    "from sklearn.metrics import confusion_matrix\n",
    "\n",
    "# local\n",
    "from feature_helpers import *\n",
    "\n",
    "# display settings\n",
    "pd.set_option('display.max_columns', 21)\n",
    "pd.set_option('display.max_colwidth', 400)\n",
    "pd.set_option('display.precision', 4)\n",
    "pd.set_option('display.width', 1600)"
   ]
  },
  {
   "cell_type": "code",
   "execution_count": null,
   "metadata": {},
   "outputs": [],
   "source": [
    "recipes = load_clean_data()"
   ]
  },
  {
   "cell_type": "code",
   "execution_count": null,
   "metadata": {},
   "outputs": [],
   "source": [
    "recipes.ingredients = remove_states(recipes.ingredients)\n",
    "recipes.ingredients = remove_dupes(recipes.ingredients)"
   ]
  },
  {
   "cell_type": "code",
   "execution_count": null,
   "metadata": {},
   "outputs": [],
   "source": [
    "counts = make_counts(recipes)\n",
    "rare_merged, renamed = merge_rare_features(counts, 1, 'raretype')\n",
    "rare_merged = rare_merged.drop(columns=['test']) \n",
    "rates = scale_counts(rare_merged, recipes.cuisine.value_counts())\n",
    "recipes.ingredients = remove_dupes(recipes.ingredients)\n",
    "props = get_proportions(rates)"
   ]
  },
  {
   "cell_type": "code",
   "execution_count": null,
   "metadata": {},
   "outputs": [],
   "source": [
    "recipes.ingredients = recipes.ingredients.map(lambda ings: update_names(ings, renamed))"
   ]
  },
  {
   "cell_type": "code",
   "execution_count": null,
   "metadata": {},
   "outputs": [],
   "source": [
    "last_e = deque(6*[0], 6)"
   ]
  },
  {
   "cell_type": "code",
   "execution_count": null,
   "metadata": {},
   "outputs": [],
   "source": [
    "def make_points(props, adj=True):\n",
    "    smooth = lambda data, i: data.applymap(lambda x: log(1.01 + (x / (i + x))) if x else 0)\n",
    "    points = smooth(props, .01)\n",
    "    weights = {\n",
    "        # drop\n",
    "        'brazilian': .99,\n",
    "        'british': .98,\n",
    "        'cajun_creole': .965,\n",
    "        'indian': .99,\n",
    "        'irish': .99,\n",
    "        'jamaican': .965,\n",
    "        'moroccan': .97,\n",
    "        'russian': .975,\n",
    "        'spanish': .985,\n",
    "        'thai': .984,\n",
    "        'vietnamese': .985,\n",
    "        # boost\n",
    "        'chinese': 1.005,\n",
    "        #'filipino': 1.005,\n",
    "        'french': 1.0053,\n",
    "        'greek': 1.005,\n",
    "        'italian': 1.03,\n",
    "        'japanese': 1.028,\n",
    "        'korean': 1.005,\n",
    "        'mexican': 1.01,\n",
    "        'southern_us': 1.003\n",
    "    }\n",
    "    if adj:\n",
    "        for cuisine, weight in weights.items():\n",
    "            points[cuisine] = weight * points[cuisine]\n",
    "    return points"
   ]
  },
  {
   "cell_type": "code",
   "execution_count": null,
   "metadata": {},
   "outputs": [],
   "source": [
    "points = make_points(props)"
   ]
  },
  {
   "cell_type": "code",
   "execution_count": null,
   "metadata": {},
   "outputs": [],
   "source": [
    "def make_scores(recipe, points, rank=True):\n",
    "    scores = points.loc[recipe.ingredients]\n",
    "    if not rank:\n",
    "        return scores.mean()\n",
    "    totals = scores.sum(axis='index')\n",
    "    n_ings = len(recipe.ingredients)\n",
    "    ranks = pd.Series(0.0, index=points.columns)\n",
    "    if n_ings == 1:\n",
    "        leaders = totals.nlargest(2).index\n",
    "        ranks[leaders[0]] += 1.1\n",
    "        ranks[leaders[1]] += 1\n",
    "        return ranks / n_ings\n",
    "    for ing in recipe.ingredients:\n",
    "        leaders = (totals - scores.loc[ing].iloc[0]).nlargest(2).index\n",
    "        ranks[leaders[0]] += 1.1\n",
    "        ranks[leaders[1]] += 1\n",
    "    return ranks / n_ings"
   ]
  },
  {
   "cell_type": "code",
   "execution_count": null,
   "metadata": {},
   "outputs": [],
   "source": [
    "scores = recipes.apply(lambda recipe: make_scores(recipe, points, rank=True), axis='columns')"
   ]
  },
  {
   "cell_type": "code",
   "execution_count": null,
   "metadata": {},
   "outputs": [],
   "source": [
    "scores_plus = add_score_features(scores)"
   ]
  },
  {
   "cell_type": "code",
   "execution_count": null,
   "metadata": {},
   "outputs": [],
   "source": [
    "output = pd.concat([recipes, scores_plus], axis='columns')\n",
    "output.head()"
   ]
  },
  {
   "cell_type": "code",
   "execution_count": null,
   "metadata": {
    "scrolled": true
   },
   "outputs": [],
   "source": [
    "def get_preds(recipe):\n",
    "    maxpos = recipe.iloc[2:-7].values.argmax()\n",
    "    pred = recipe.index[maxpos + 2]\n",
    "    return (pred, recipe.cuisine)\n",
    "preds = output.query('cuisine != \"test\"').apply(get_preds, axis='columns', result_type='expand')\n",
    "preds.columns = ['falpos', 'falneg']\n",
    "e = preds.query('falpos != falneg')\n",
    "errs = len(e)\n",
    "last_e.appendleft(errs)\n",
    "print(errs, errs / len(output.query('cuisine != \"test\"')), last_e) # 8465\n",
    "labels = sorted(e.falneg.unique())\n",
    "cnf = confusion_matrix(e.falneg, e.falpos, labels=labels)\n",
    "plot_cnf(cnf, labels)\n",
    "falpos_counts, falneg_counts = e.falpos.value_counts(), e.falneg.value_counts()\n",
    "pd.concat([falpos_counts, falneg_counts, falpos_counts + falneg_counts, output.query('cuisine != \"test\"').cuisine.value_counts()], axis='columns', sort=False)"
   ]
  },
  {
   "cell_type": "code",
   "execution_count": null,
   "metadata": {},
   "outputs": [],
   "source": [
    "def make_points(props, adj=True):\n",
    "    smooth = lambda data, i: data.applymap(lambda x: log(1.01 + (x / (i + x))) if x else 0)\n",
    "    points = smooth(props, .2)\n",
    "    weights = {\n",
    "        # drop\n",
    "        'british': .905,\n",
    "        'cajun_creole': .85,\n",
    "        #'chinese': .99,\n",
    "        'greek': .99,\n",
    "        'indian': .94,\n",
    "        'irish': .96,\n",
    "        'jamaican': .915,\n",
    "        'korean': .98,\n",
    "        'moroccan': .87,\n",
    "        'russian': .9,\n",
    "        'spanish': .99,\n",
    "        'thai': .96,\n",
    "        'vietnamese': .94,\n",
    "        # boost\n",
    "        'brazilian': 1.02,\n",
    "        'filipino': 1.02,\n",
    "        'french': 1.04,\n",
    "        'italian': 1.16,\n",
    "        'japanese': 1.155,\n",
    "        'mexican': 1.05,\n",
    "        'southern_us': 1.045\n",
    "    }\n",
    "    if adj:\n",
    "        for cuisine, weight in weights.items():\n",
    "            points[cuisine] = weight * points[cuisine]\n",
    "    return points"
   ]
  },
  {
   "cell_type": "code",
   "execution_count": null,
   "metadata": {},
   "outputs": [],
   "source": []
  },
  {
   "cell_type": "code",
   "execution_count": null,
   "metadata": {},
   "outputs": [],
   "source": [
    "save_output(output)"
   ]
  },
  {
   "cell_type": "code",
   "execution_count": null,
   "metadata": {},
   "outputs": [],
   "source": []
  }
 ],
 "metadata": {
  "kernelspec": {
   "display_name": "Python 3",
   "language": "python",
   "name": "python3"
  },
  "language_info": {
   "codemirror_mode": {
    "name": "ipython",
    "version": 3
   },
   "file_extension": ".py",
   "mimetype": "text/x-python",
   "name": "python",
   "nbconvert_exporter": "python",
   "pygments_lexer": "ipython3",
   "version": "3.6.7"
  }
 },
 "nbformat": 4,
 "nbformat_minor": 2
}
