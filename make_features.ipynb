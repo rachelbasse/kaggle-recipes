{
 "cells": [
  {
   "cell_type": "code",
   "execution_count": null,
   "metadata": {},
   "outputs": [],
   "source": [
    "# imports\n",
    "\n",
    "#standard\n",
    "from collections import deque\n",
    "\n",
    "# extra\n",
    "import numpy as np\n",
    "import pandas as pd\n",
    "from sklearn.metrics import confusion_matrix\n",
    "\n",
    "# local\n",
    "from feature_helpers import *\n",
    "\n",
    "# display settings\n",
    "pd.set_option('display.max_columns', 21)\n",
    "pd.set_option('display.max_colwidth', 400)\n",
    "pd.set_option('display.precision', 4)\n",
    "pd.set_option('display.width', 1600)"
   ]
  },
  {
   "cell_type": "code",
   "execution_count": null,
   "metadata": {},
   "outputs": [],
   "source": [
    "recipes = load_clean_data()"
   ]
  },
  {
   "cell_type": "code",
   "execution_count": null,
   "metadata": {},
   "outputs": [],
   "source": [
    "recipes.strings = remove_dupes(recipes.strings)\n",
    "recipes.ingredients = remove_dupes(recipes.ingredients)"
   ]
  },
  {
   "cell_type": "code",
   "execution_count": null,
   "metadata": {},
   "outputs": [],
   "source": [
    "recipes.strings = add_combos(recipes.strings)\n",
    "recipes.ingredients = add_combos(recipes.ingredients)"
   ]
  },
  {
   "cell_type": "code",
   "execution_count": null,
   "metadata": {},
   "outputs": [],
   "source": [
    "string_counts = make_counts(recipes, field='strings')\n",
    "string_merged, string_renamed = merge_rare_features(string_counts, 1, 3, 'raretype')\n",
    "string_merged = string_merged.drop(columns=['test'])\n",
    "string_rates = scale_counts(string_merged, recipes.cuisine.value_counts())\n",
    "string_rates.loc['rarecombotype'] = 0.0\n",
    "recipes.strings = remove_dupes(recipes.strings)\n",
    "string_props = get_proportions(string_rates)\n",
    "string_props.loc['rarecombotype'] = 0.0\n",
    "recipes.strings = recipes.strings.map(lambda ings: update_names(ings, string_renamed))\n",
    "recipes.strings = remove_dupes(recipes.strings)"
   ]
  },
  {
   "cell_type": "code",
   "execution_count": null,
   "metadata": {},
   "outputs": [],
   "source": [
    "string_prop_weights = {\n",
    "    'brazilian': [0.98, 0.4],\n",
    "    'british': [1.00, 0.5],\n",
    "    'cajun_creole': [0.89, 0.5],\n",
    "    'chinese': [0.99, 0.4],\n",
    "    'filipino': [1.03, 0.4],\n",
    "    'french': [1.07, 0.4],\n",
    "    'greek': [0.97, 0.4],\n",
    "    'indian': [0.93, 0.4], \n",
    "    'irish': [0.93, 0.4], \n",
    "    'italian': [1.05, 0.3],\n",
    "    'jamaican': [0.86, 0.4],\n",
    "    'japanese': [1.16, 0.3],\n",
    "    'korean': [0.95, 0.4], \n",
    "    'mexican': [1.16, 0.4],\n",
    "    'moroccan': [0.86, 0.5],\n",
    "    'russian': [0.92, 0.5],\n",
    "    'southern_us': [1.07, 0.4], \n",
    "    'spanish': [1.02, 0.4],\n",
    "    'thai': [0.97, 0.4],\n",
    "    'vietnamese': [0.93, 0.4]\n",
    "}\n",
    "string_points = reweight(string_props, string_prop_weights)\n",
    "string_scores = recipes.apply(lambda recipe: string_points.loc[recipe.strings].mean(), axis='columns')\n",
    "string_ranks = string_scores.apply(rank, axis='columns')\n",
    "string_ratios = string_scores.apply(ratio, axis='columns')"
   ]
  },
  {
   "cell_type": "code",
   "execution_count": null,
   "metadata": {},
   "outputs": [],
   "source": [
    "counts = make_counts(recipes)\n",
    "rare_merged, renamed = merge_rare_features(counts, 1, 3, 'raretype')\n",
    "rare_merged = rare_merged.drop(columns=['test'])\n",
    "rates = scale_counts(rare_merged, recipes.cuisine.value_counts())\n",
    "rates.loc['rarecombotype'] = 0.0\n",
    "recipes.ingredients = remove_dupes(recipes.ingredients)\n",
    "props = get_proportions(rates)\n",
    "props.loc['rarecombotype'] = 0.0\n",
    "recipes.ingredients = recipes.ingredients.map(lambda ings: update_names(ings, renamed))\n",
    "recipes.ingredients = remove_dupes(recipes.ingredients)"
   ]
  },
  {
   "cell_type": "code",
   "execution_count": null,
   "metadata": {},
   "outputs": [],
   "source": [
    "prop_weights = {\n",
    "    'brazilian': [0.99, .4],\n",
    "    'british': [1.02, .5],\n",
    "    'cajun_creole': [0.83, .5],\n",
    "    'chinese': [0.97, .4],\n",
    "    'filipino': [1.04, .4],\n",
    "    'french': [1.08, .4],\n",
    "    'greek': [0.93, .4],\n",
    "    'indian': [0.91, .5],\n",
    "    'irish': [0.96, .4],\n",
    "    'italian': [1.04, .3],\n",
    "    'jamaican': [0.97, .5],\n",
    "    'japanese': [1.08, .3],\n",
    "    'korean': [0.96, .4],\n",
    "    'mexican': [1.04, .4],\n",
    "    'moroccan': [0.87, .5],\n",
    "    'russian': [0.97, .5],\n",
    "    'southern_us': [1.06, .4],\n",
    "    'spanish': [0.99, .4],\n",
    "    'thai': [0.91, .4],\n",
    "    'vietnamese': [0.97, .5],\n",
    "}\n",
    "points = reweight(props, prop_weights)\n",
    "scores = recipes.apply(lambda recipe: make_scores(recipe, points), axis='columns')\n",
    "ranks = scores.iloc[:, 0:20].apply(rank, axis='columns')"
   ]
  },
  {
   "cell_type": "code",
   "execution_count": null,
   "metadata": {},
   "outputs": [],
   "source": [
    "top_points = points[points >= .2].fillna(0)\n",
    "top_scores = recipes.apply(lambda recipe: top_points.loc[recipe.ingredients].mean(), axis='columns')\n",
    "top_rates = top_scores * scores.iloc[:, 0:20].applymap(inverse)"
   ]
  },
  {
   "cell_type": "code",
   "execution_count": null,
   "metadata": {},
   "outputs": [],
   "source": [
    "ing_weights = {\n",
    "    'brazilian': [0.99, .4],\n",
    "    'british': [1.0, .5],\n",
    "    'cajun_creole': [0.86, .5],\n",
    "    'chinese': [0.97, .4],\n",
    "    'filipino': [1.04, .4],\n",
    "    'french': [1.08, .4],\n",
    "    'greek': [0.95, .4],\n",
    "    'indian': [0.94, .5],\n",
    "    'irish': [0.94, .4],\n",
    "    'italian': [1.05, .3],\n",
    "    'jamaican': [0.96, .5],\n",
    "    'japanese': [1.1, .3],\n",
    "    'korean': [0.96, .4],\n",
    "    'mexican': [1.05, .4],\n",
    "    'moroccan': [0.85, .5],\n",
    "    'russian': [0.95, .5],\n",
    "    'spanish': [0.99, .4],\n",
    "    'southern_us': [1.05, .4],\n",
    "    'thai': [0.91, .4],\n",
    "    'vietnamese': [0.98, .5],\n",
    "}\n",
    "ing_points = reweight(ings_only(props), ing_weights)\n",
    "ing_scores = recipes.apply(lambda recipe: ing_points.loc[recipe.ingredients].mean(), axis='columns')\n",
    "ing_ranks = ing_scores.apply(rank, axis='columns')"
   ]
  },
  {
   "cell_type": "code",
   "execution_count": null,
   "metadata": {},
   "outputs": [],
   "source": [
    "standardize_ranks = lambda ranks: pd.Series(np.arange(0, 1, 1/len(ranks)), index=ranks.sort_values().index)\n",
    "std_ranks = ranks.apply(standardize_ranks, axis='columns')\n",
    "group_scores = make_group_features(ranks)\n",
    "comp_ratios = make_comparison_features(ranks)"
   ]
  },
  {
   "cell_type": "code",
   "execution_count": null,
   "metadata": {},
   "outputs": [],
   "source": [
    "ranks = ranks.add_prefix('rank_')\n",
    "string_scores = string_scores.add_prefix('str_')\n",
    "string_ranks = string_ranks.add_prefix('strrk_')\n",
    "string_ratios = string_ratios.add_prefix('strrt_')\n",
    "std_ranks = std_ranks.add_prefix('stdr_')\n",
    "top_scores = top_scores.add_prefix('top_')\n",
    "top_rates = top_rates.add_prefix('topr_')\n",
    "ing_scores = ing_scores.add_prefix('ing_')\n",
    "ing_ranks = ing_ranks.add_prefix('ingr_')"
   ]
  },
  {
   "cell_type": "code",
   "execution_count": null,
   "metadata": {},
   "outputs": [],
   "source": [
    "features = pd.concat([string_scores, string_ranks, string_ratios, scores, ranks, std_ranks, top_scores, top_rates,\n",
    "                      ing_scores, ing_ranks, group_scores, comp_ratios], axis='columns')"
   ]
  },
  {
   "cell_type": "code",
   "execution_count": null,
   "metadata": {},
   "outputs": [],
   "source": [
    "output = pd.concat([recipes, features], axis='columns')\n",
    "output.head()"
   ]
  },
  {
   "cell_type": "code",
   "execution_count": null,
   "metadata": {},
   "outputs": [],
   "source": [
    "last_e = deque(6*[0], 6)"
   ]
  },
  {
   "cell_type": "code",
   "execution_count": null,
   "metadata": {
    "scrolled": false
   },
   "outputs": [],
   "source": [
    "output = pd.concat([recipes, string_scores], axis='columns')\n",
    "def get_preds(recipe):\n",
    "    maxpos = recipe.iloc[3:23].values.argmax()\n",
    "    pred = recipe.index[maxpos + 3]\n",
    "    return (pred, recipe.cuisine)\n",
    "preds = output.query('cuisine != \"test\"').apply(get_preds, axis='columns', result_type='expand')\n",
    "preds.columns = ['falpos', 'falneg']\n",
    "e = preds.query('falpos != falneg')\n",
    "errs = len(e)\n",
    "last_e.appendleft(errs)\n",
    "print(errs, 1 - errs / len(output.query('cuisine != \"test\"')), last_e) # 6900, strings:6700\n",
    "labels = sorted(e.falneg.unique())\n",
    "cnf = confusion_matrix(e.falneg, e.falpos, labels=labels)\n",
    "plot_cnf(cnf, labels)\n",
    "falpos_counts, falneg_counts = e.falpos.value_counts(), e.falneg.value_counts()\n",
    "pd.concat([falpos_counts, falneg_counts, falpos_counts + falneg_counts, output.query('cuisine != \"test\"').cuisine.value_counts()], axis='columns', sort=False)"
   ]
  },
  {
   "cell_type": "code",
   "execution_count": null,
   "metadata": {},
   "outputs": [],
   "source": []
  },
  {
   "cell_type": "code",
   "execution_count": null,
   "metadata": {},
   "outputs": [],
   "source": [
    "save_output(output)"
   ]
  }
 ],
 "metadata": {
  "kernelspec": {
   "display_name": "Python 3",
   "language": "python",
   "name": "python3"
  },
  "language_info": {
   "codemirror_mode": {
    "name": "ipython",
    "version": 3
   },
   "file_extension": ".py",
   "mimetype": "text/x-python",
   "name": "python",
   "nbconvert_exporter": "python",
   "pygments_lexer": "ipython3",
   "version": "3.6.7"
  }
 },
 "nbformat": 4,
 "nbformat_minor": 2
}
