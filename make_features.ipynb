{
 "cells": [
  {
   "cell_type": "code",
   "execution_count": null,
   "metadata": {},
   "outputs": [],
   "source": [
    "# imports\n",
    "\n",
    "# standard\n",
    "from collections import Counter, defaultdict\n",
    "from operator import itemgetter\n",
    "\n",
    "# extra\n",
    "import numpy as np\n",
    "import pandas as pd\n",
    "\n",
    "# local\n",
    "from feature_helpers import *\n",
    "\n",
    "# display settings\n",
    "pd.set_option('display.max_colwidth', 400)\n",
    "pd.set_option('display.precision', 4)\n",
    "pd.set_option('display.width', 1600)"
   ]
  },
  {
   "cell_type": "code",
   "execution_count": null,
   "metadata": {},
   "outputs": [],
   "source": [
    "recipes = load_clean_data()"
   ]
  },
  {
   "cell_type": "code",
   "execution_count": null,
   "metadata": {},
   "outputs": [],
   "source": [
    "# use recipe length\n",
    "# replace rare words"
   ]
  },
  {
   "cell_type": "code",
   "execution_count": null,
   "metadata": {},
   "outputs": [],
   "source": [
    "ings = [ing for ings in recipes.ingredients for ing in ings]\n",
    "ing_counts = Counter(ings)"
   ]
  },
  {
   "cell_type": "code",
   "execution_count": null,
   "metadata": {},
   "outputs": [],
   "source": [
    "rare_ings = sorted([ing for ing, count in ing_counts.items() if count <= 2 and len(ing.split('-')) == 1])"
   ]
  },
  {
   "cell_type": "code",
   "execution_count": null,
   "metadata": {},
   "outputs": [],
   "source": [
    "len(rare_ings)"
   ]
  },
  {
   "cell_type": "code",
   "execution_count": null,
   "metadata": {},
   "outputs": [],
   "source": []
  },
  {
   "cell_type": "code",
   "execution_count": null,
   "metadata": {},
   "outputs": [],
   "source": []
  },
  {
   "cell_type": "code",
   "execution_count": null,
   "metadata": {},
   "outputs": [],
   "source": []
  },
  {
   "cell_type": "code",
   "execution_count": null,
   "metadata": {},
   "outputs": [],
   "source": [
    "    def get_class_tfidf(obs):\n",
    "        recipe = obs.ingredients\n",
    "        return tfidfs[recipe].loc[obs.cuisine].sum() / len(recipe)\n",
    "    def refine_class(obs):\n",
    "        if obs.class_tfidf < .1:\n",
    "            obs.cuisine = '{}-a'.format(obs.cuisine)\n",
    "        return obs\n",
    "    train = data.query('cuisine != \"test\"')\n",
    "    class_tfidfs = train.apply(get_class_tfidf, axis=1)\n",
    "    class_tfidfs.name = 'class_tfidf'\n",
    "    train = pd.concat([train, class_tfidfs], axis=1)\n",
    "    res = train.apply(refine_class, axis=1)\n",
    "    return res"
   ]
  },
  {
   "cell_type": "code",
   "execution_count": null,
   "metadata": {},
   "outputs": [],
   "source": [
    "def make_docs(recipes):\n",
    "    ings = {}\n",
    "    for cuisine, group in data.groupby('cuisine'):\n",
    "        ings[cuisine] = [ing for ings in group.ingredients for ing in ings]\n",
    "    docs = {}\n",
    "    dropped = defaultdict(int)\n",
    "    all_counts = []\n",
    "    for cuisine, ings in ings.items():\n",
    "        counts = Counter(words)\n",
    "        if cuisine == 'test':\n",
    "            for word, count in counts.items():\n",
    "                dropped[word] += count\n",
    "            continue\n",
    "        cutoff = len(counts) // 1000\n",
    "        keep = []\n",
    "        for k, v in counts.items():\n",
    "            if v <= cutoff:\n",
    "                dropped[k] += v\n",
    "                continue\n",
    "            keep.extend([k] * v)\n",
    "        all_counts.append((cuisine, len(counts), cutoff, len(Counter(keep))))\n",
    "        docs[cuisine] = ' '.join(keep)\n",
    "    return (docs, dropped, sorted(all_counts, key=itemgetter(3)))"
   ]
  },
  {
   "cell_type": "code",
   "execution_count": null,
   "metadata": {},
   "outputs": [],
   "source": [
    "def clean_ingredients(ingredients, total_counts, dropped_counts):\n",
    "    to_delete = set()\n",
    "    for word, count in dropped_counts.items():\n",
    "        if count == total_counts[word]:\n",
    "            to_delete.add(word)\n",
    "    cleaned = ingredients.map(lambda lst: [word for word in lst if word not in to_delete])\n",
    "    print('{} ingredients ({} deleted)'.format(len(cleaned), len(delete)))\n",
    "    return cleaned"
   ]
  },
  {
   "cell_type": "code",
   "execution_count": null,
   "metadata": {},
   "outputs": [],
   "source": []
  },
  {
   "cell_type": "code",
   "execution_count": null,
   "metadata": {},
   "outputs": [],
   "source": []
  },
  {
   "cell_type": "code",
   "execution_count": null,
   "metadata": {},
   "outputs": [],
   "source": []
  },
  {
   "cell_type": "code",
   "execution_count": null,
   "metadata": {},
   "outputs": [],
   "source": []
  },
  {
   "cell_type": "code",
   "execution_count": null,
   "metadata": {},
   "outputs": [],
   "source": []
  },
  {
   "cell_type": "code",
   "execution_count": null,
   "metadata": {},
   "outputs": [],
   "source": [
    "def make_cleaner_docs(data):\n",
    "    cuisine_words = {}\n",
    "    for cuisine, df in data.groupby('cuisine'):\n",
    "        cuisine_words[cuisine] = [ing for recipe in df.ingredients for ing in recipe]\n",
    "    docs = {}\n",
    "    dropped = defaultdict(int)\n",
    "    all_counts = []\n",
    "    for cuisine, words in cuisine_words.items():\n",
    "        counts = Counter(words)\n",
    "        if cuisine == 'test':\n",
    "            for word, count in counts.items():\n",
    "                dropped[word] += count\n",
    "            continue\n",
    "        cutoff = len(counts) // 1000\n",
    "        keep = []\n",
    "        for k, v in counts.items():\n",
    "            if v <= cutoff:\n",
    "                dropped[k] += v\n",
    "                continue\n",
    "            keep.extend([k] * v)\n",
    "        all_counts.append((cuisine, len(counts), cutoff, len(Counter(keep))))\n",
    "        docs[cuisine] = ' '.join(keep)\n",
    "    return (docs, dropped, sorted(all_counts, key=itemgetter(3)))"
   ]
  },
  {
   "cell_type": "code",
   "execution_count": null,
   "metadata": {},
   "outputs": [],
   "source": [
    "def get_winners(recipe, tfidfs):\n",
    "    tfidf_sums = tfidfs[recipe].sum(axis=1)\n",
    "    if len(recipe) == 1:\n",
    "        return tfidf_sums.idxmax()\n",
    "    rounds = defaultdict(int)\n",
    "    for ing in recipe:\n",
    "        minus_one = tfidf_sums - tfidfs[ing]\n",
    "        first, second = minus_one.nlargest(2).index\n",
    "        first = first.replace('-a', '')\n",
    "        second = second.replace('-a', '')\n",
    "        rounds[first] += 14\n",
    "        rounds[second] += 10\n",
    "    return max(rounds.items(), key=itemgetter(1))[0]"
   ]
  },
  {
   "cell_type": "code",
   "execution_count": null,
   "metadata": {},
   "outputs": [],
   "source": []
  },
  {
   "cell_type": "code",
   "execution_count": null,
   "metadata": {},
   "outputs": [],
   "source": []
  },
  {
   "cell_type": "code",
   "execution_count": null,
   "metadata": {},
   "outputs": [],
   "source": []
  },
  {
   "cell_type": "code",
   "execution_count": null,
   "metadata": {},
   "outputs": [],
   "source": [
    "### Make output for ingredient features\n",
    "indices = {k: i for i, k in enumerate(word_counts)}\n",
    "col_names = [k for k, _ in sorted(indices.items(), key=itemgetter(1))]\n",
    "zeros = np.zeros((data.shape[0], len(col_names)), dtype=np.uint8)\n",
    "for ri, ings in enumerate(data.ingredients):\n",
    "    zeros[ri, [indices[ing] for ing in ings]] = 1\n",
    "zeros_df = pd.DataFrame(zeros, columns=col_names, index=data.index)\n",
    "data = pd.concat((data, zeros_df), axis=1)"
   ]
  },
  {
   "cell_type": "code",
   "execution_count": null,
   "metadata": {},
   "outputs": [],
   "source": []
  },
  {
   "cell_type": "code",
   "execution_count": null,
   "metadata": {},
   "outputs": [],
   "source": [
    "def save_output(output):\n",
    "    train = output.query('cuisine != \"test\"')\n",
    "    train = train.drop(columns=['ingredients'])\n",
    "    train.cuisine.to_csv('data/cuisine.csv', header=False, encoding='utf-8')"
   ]
  },
  {
   "cell_type": "code",
   "execution_count": null,
   "metadata": {},
   "outputs": [],
   "source": [
    "train = train.drop(columns=['cuisine'])\n",
    "train.to_csv('data/temp_train.csv', header=True, encoding='utf-8')"
   ]
  },
  {
   "cell_type": "code",
   "execution_count": null,
   "metadata": {},
   "outputs": [],
   "source": [
    "#test = output[output.iloc[:,0] != 'test']\n",
    "test = output.query('cuisine == \"test\"')\n",
    "test = test.drop(columns=['cuisine', 'ingredients'])\n",
    "test.to_csv('data/temp_test.csv', header=True, encoding='utf-8')"
   ]
  },
  {
   "cell_type": "code",
   "execution_count": null,
   "metadata": {},
   "outputs": [],
   "source": []
  }
 ],
 "metadata": {
  "kernelspec": {
   "display_name": "Python 3",
   "language": "python",
   "name": "python3"
  },
  "language_info": {
   "codemirror_mode": {
    "name": "ipython",
    "version": 3
   },
   "file_extension": ".py",
   "mimetype": "text/x-python",
   "name": "python",
   "nbconvert_exporter": "python",
   "pygments_lexer": "ipython3",
   "version": "3.6.7"
  }
 },
 "nbformat": 4,
 "nbformat_minor": 2
}
