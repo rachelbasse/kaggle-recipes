{
 "cells": [
  {
   "cell_type": "code",
   "execution_count": null,
   "metadata": {},
   "outputs": [],
   "source": [
    "# imports\n",
    "\n",
    "#standard\n",
    "from collections import deque\n",
    "from math import log\n",
    "\n",
    "# extra\n",
    "import pandas as pd\n",
    "from sklearn.metrics import confusion_matrix\n",
    "\n",
    "# local\n",
    "from feature_helpers import *\n",
    "\n",
    "# display settings\n",
    "pd.set_option('display.max_columns', 21)\n",
    "pd.set_option('display.max_colwidth', 400)\n",
    "pd.set_option('display.precision', 4)\n",
    "pd.set_option('display.width', 1600)"
   ]
  },
  {
   "cell_type": "code",
   "execution_count": null,
   "metadata": {},
   "outputs": [],
   "source": [
    "recipes = load_clean_data()"
   ]
  },
  {
   "cell_type": "code",
   "execution_count": null,
   "metadata": {},
   "outputs": [],
   "source": [
    "recipes.ingredients = remove_states(recipes.ingredients)\n",
    "recipes.ingredients = remove_dupes(recipes.ingredients)"
   ]
  },
  {
   "cell_type": "code",
   "execution_count": null,
   "metadata": {},
   "outputs": [],
   "source": [
    "counts = make_counts(recipes)\n",
    "rates = scale_counts(counts, recipes.cuisine.value_counts())\n",
    "rare_merged, renamed = merge_rare_features(rates, .001, 'raretype')\n",
    "rare_merged = rare_merged.drop(columns=['test'])\n",
    "recipes.ingredients = remove_dupes(recipes.ingredients)\n",
    "props = get_proportions(rare_merged)"
   ]
  },
  {
   "cell_type": "code",
   "execution_count": null,
   "metadata": {},
   "outputs": [],
   "source": [
    "recipes.ingredients = recipes.ingredients.map(lambda ings: update_names(ings, renamed))"
   ]
  },
  {
   "cell_type": "code",
   "execution_count": null,
   "metadata": {},
   "outputs": [],
   "source": [
    "last_e = deque(6*[0], 6)"
   ]
  },
  {
   "cell_type": "code",
   "execution_count": null,
   "metadata": {},
   "outputs": [],
   "source": [
    "def make_points(props, adj=True):\n",
    "    smooth = lambda data, i: data.applymap(lambda x: log(1.01 + (x / (i + x))) if x else 0)\n",
    "    points = smooth(props, .1)\n",
    "    adjust = {\n",
    "        # drop\n",
    "        'british': .925,\n",
    "        'cajun_creole': .875,\n",
    "        #'chinese': .99,\n",
    "        #'greek': .99,\n",
    "        'indian': .95,\n",
    "        'irish': .97,\n",
    "        'jamaican': .91,\n",
    "        'korean': .985,\n",
    "        'moroccan': .89,\n",
    "        'russian': .92,\n",
    "        'spanish': .984,\n",
    "        'thai': .95,\n",
    "        'vietnamese': .93,\n",
    "        # boost\n",
    "        'brazilian': 1.01,\n",
    "        'filipino': 1.01,\n",
    "        'french': 1.03,\n",
    "        'italian': 1.12,\n",
    "        'japanese': 1.11,\n",
    "        'mexican': 1.04,\n",
    "        'southern_us': 1.03\n",
    "    }\n",
    "    if adj:\n",
    "        for cuisine, val in adjust.items():\n",
    "            points[cuisine] = val * points[cuisine]\n",
    "    return points"
   ]
  },
  {
   "cell_type": "code",
   "execution_count": null,
   "metadata": {},
   "outputs": [],
   "source": [
    "points = make_points(props)"
   ]
  },
  {
   "cell_type": "code",
   "execution_count": null,
   "metadata": {},
   "outputs": [],
   "source": [
    "scores = recipes.apply(lambda recipe: make_scores(recipe, points, group=False), axis='columns')"
   ]
  },
  {
   "cell_type": "code",
   "execution_count": null,
   "metadata": {},
   "outputs": [],
   "source": [
    "scores_plus = add_score_features(scores)"
   ]
  },
  {
   "cell_type": "code",
   "execution_count": null,
   "metadata": {},
   "outputs": [],
   "source": [
    "output = pd.concat([recipes, scores_plus], axis='columns')\n",
    "output.head()"
   ]
  },
  {
   "cell_type": "code",
   "execution_count": null,
   "metadata": {},
   "outputs": [],
   "source": [
    "def get_preds(recipe):\n",
    "    maxpos = recipe.iloc[2:-7].values.argmax()\n",
    "    pred = recipe.index[maxpos + 2]\n",
    "    return (pred, recipe.cuisine)\n",
    "preds = output.query('cuisine != \"test\"').apply(get_preds, axis='columns', result_type='expand')\n",
    "preds.columns = ['falpos', 'falneg']\n",
    "e = preds.query('falpos != falneg')\n",
    "errs = len(e)\n",
    "last_e.appendleft(errs)\n",
    "print(errs, errs / len(output.query('cuisine != \"test\"')), last_e) # 11020, 8561\n",
    "labels = sorted(e.falneg.unique())\n",
    "cnf = confusion_matrix(e.falneg, e.falpos, labels=labels)\n",
    "plot_cnf(cnf, labels)\n",
    "pd.concat([e.falpos.value_counts(), e.falneg.value_counts(), output.query('cuisine != \"test\"').cuisine.value_counts()], axis='columns', sort=False)"
   ]
  },
  {
   "cell_type": "code",
   "execution_count": null,
   "metadata": {},
   "outputs": [],
   "source": [
    "save_output(output)"
   ]
  }
 ],
 "metadata": {
  "kernelspec": {
   "display_name": "Python 3",
   "language": "python",
   "name": "python3"
  },
  "language_info": {
   "codemirror_mode": {
    "name": "ipython",
    "version": 3
   },
   "file_extension": ".py",
   "mimetype": "text/x-python",
   "name": "python",
   "nbconvert_exporter": "python",
   "pygments_lexer": "ipython3",
   "version": "3.6.7"
  }
 },
 "nbformat": 4,
 "nbformat_minor": 2
}
