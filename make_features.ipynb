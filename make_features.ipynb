{
 "cells": [
  {
   "cell_type": "code",
   "execution_count": null,
   "metadata": {},
   "outputs": [],
   "source": [
    "# imports\n",
    "\n",
    "#standard\n",
    "from collections import deque\n",
    "from math import log\n",
    "\n",
    "# extra\n",
    "import pandas as pd\n",
    "from sklearn.metrics import confusion_matrix\n",
    "\n",
    "# local\n",
    "from feature_helpers import *\n",
    "\n",
    "# display settings\n",
    "pd.set_option('display.max_columns', 21)\n",
    "pd.set_option('display.max_colwidth', 400)\n",
    "pd.set_option('display.precision', 4)\n",
    "pd.set_option('display.width', 1600)"
   ]
  },
  {
   "cell_type": "code",
   "execution_count": null,
   "metadata": {},
   "outputs": [],
   "source": [
    "recipes = load_clean_data()"
   ]
  },
  {
   "cell_type": "code",
   "execution_count": null,
   "metadata": {},
   "outputs": [],
   "source": [
    "recipes.ingredients = remove_states(recipes.ingredients)\n",
    "recipes.ingredients = remove_dupes(recipes.ingredients)\n",
    "recipes.ingredients = add_combos(recipes.ingredients)"
   ]
  },
  {
   "cell_type": "code",
   "execution_count": null,
   "metadata": {},
   "outputs": [],
   "source": [
    "counts = make_counts(recipes)\n",
    "rare_merged, renamed = merge_rare_features(counts, 1, 3, 'raretype')\n",
    "rare_merged = rare_merged.drop(columns=['test'])\n",
    "rates = scale_counts(rare_merged, recipes.cuisine.value_counts())\n",
    "recipes.ingredients = remove_dupes(recipes.ingredients)\n",
    "props = get_proportions(rates)\n",
    "props.loc['rarecombotype'] = 0.0"
   ]
  },
  {
   "cell_type": "code",
   "execution_count": null,
   "metadata": {},
   "outputs": [],
   "source": [
    "recipes.ingredients = recipes.ingredients.map(lambda ings: update_names(ings, renamed))\n",
    "recipes.ingredients = remove_dupes(recipes.ingredients)"
   ]
  },
  {
   "cell_type": "code",
   "execution_count": null,
   "metadata": {},
   "outputs": [],
   "source": [
    "last_e = deque(6*[0], 6)"
   ]
  },
  {
   "cell_type": "code",
   "execution_count": null,
   "metadata": {},
   "outputs": [],
   "source": [
    "def make_points(props, adj=True): # combo_cutoff = 5\n",
    "    smooth = lambda data, w: data.map(lambda x: w[0] * log(1.01 + (x / (w[1] + x))) if x else 0)\n",
    "    points = props.copy()\n",
    "    weights = {\n",
    "        # drop\n",
    "        'brazilian': [0.99, .4],\n",
    "        'british': [1.03, .5],\n",
    "        'cajun_creole': [0.82, .5],\n",
    "        'chinese': [0.97, .4],\n",
    "        'greek': [0.93, .4],\n",
    "        'indian': [0.91, .5],\n",
    "        'irish': [0.96, .4],\n",
    "        'jamaican': [0.97, .5],\n",
    "        'korean': [0.96, .4],\n",
    "        'moroccan': [0.88, .5],\n",
    "        'russian': [0.97, .5],\n",
    "        'spanish': [0.98, .4],\n",
    "        'thai': [0.91, .4],\n",
    "        'vietnamese': [0.97, .5],\n",
    "        # boost\n",
    "        'filipino': [1.04, .4],\n",
    "        'french': [1.08, .4],\n",
    "        'italian': [1.04, .3],\n",
    "        'japanese': [1.08, .3],\n",
    "        'mexican': [1.04, .4],\n",
    "        'southern_us': [1.07, .4],\n",
    "    }\n",
    "    if adj:\n",
    "        for cuisine, weight in weights.items():\n",
    "            points[cuisine] = smooth(points[cuisine], weight)\n",
    "    return points"
   ]
  },
  {
   "cell_type": "code",
   "execution_count": null,
   "metadata": {},
   "outputs": [],
   "source": [
    "points = make_points(props)\n",
    "scores = recipes.apply(lambda recipe: make_scores(recipe, points), axis='columns')"
   ]
  },
  {
   "cell_type": "code",
   "execution_count": null,
   "metadata": {},
   "outputs": [],
   "source": [
    "ranks = scores.apply(lambda score: score / score.max(), axis='columns')\n",
    "scores_plus = add_score_features(ranks)\n",
    "length = min_max_scale(recipes.ingredients.map(len))\n",
    "length.name = 'length'\n",
    "scores = scores.add_prefix('raw_')"
   ]
  },
  {
   "cell_type": "code",
   "execution_count": null,
   "metadata": {},
   "outputs": [],
   "source": [
    "def mark_leaders(rank):\n",
    "    leaders = pd.Series(range(1, 21), index=rank.sort_values().index)\n",
    "    return leaders / 20"
   ]
  },
  {
   "cell_type": "code",
   "execution_count": null,
   "metadata": {},
   "outputs": [],
   "source": [
    "leaders = ranks.apply(mark_leaders, axis='columns')\n",
    "leaders = leaders.add_prefix('reg_')"
   ]
  },
  {
   "cell_type": "code",
   "execution_count": null,
   "metadata": {},
   "outputs": [],
   "source": [
    "output = pd.concat([recipes, scores_plus, scores, leaders, length], axis='columns')\n",
    "output.head()"
   ]
  },
  {
   "cell_type": "code",
   "execution_count": null,
   "metadata": {
    "scrolled": true
   },
   "outputs": [],
   "source": [
    "def get_preds(recipe):\n",
    "    maxpos = recipe.iloc[2:22].values.argmax()\n",
    "    pred = recipe.index[maxpos + 2]\n",
    "    return (pred, recipe.cuisine)\n",
    "preds = output.query('cuisine != \"test\"').apply(get_preds, axis='columns', result_type='expand')\n",
    "preds.columns = ['falpos', 'falneg']\n",
    "e = preds.query('falpos != falneg')\n",
    "errs = len(e)\n",
    "last_e.appendleft(errs)\n",
    "print(errs, errs / len(output.query('cuisine != \"test\"')), last_e) # 8289, 7503, 6883\n",
    "labels = sorted(e.falneg.unique())\n",
    "cnf = confusion_matrix(e.falneg, e.falpos, labels=labels)\n",
    "plot_cnf(cnf, labels)\n",
    "falpos_counts, falneg_counts = e.falpos.value_counts(), e.falneg.value_counts()\n",
    "pd.concat([falpos_counts, falneg_counts, falpos_counts + falneg_counts, output.query('cuisine != \"test\"').cuisine.value_counts()], axis='columns', sort=False)"
   ]
  },
  {
   "cell_type": "code",
   "execution_count": null,
   "metadata": {},
   "outputs": [],
   "source": [
    "def make_points(props, adj=True): # combo_cutoff = 3\n",
    "    smooth = lambda data, w: data.map(lambda x: w[0] * log(1.01 + (x / (w[1] + x))) if x else 0)\n",
    "    points = props.copy()\n",
    "    weights = {\n",
    "        # drop\n",
    "        'brazilian': [0.99, .4],\n",
    "        'british': [1.03, .5],\n",
    "        'cajun_creole': [0.83, .5],\n",
    "        'chinese': [0.97, .4],\n",
    "        'greek': [0.93, .4],\n",
    "        'indian': [0.91, .5],\n",
    "        'irish': [0.96, .4],\n",
    "        'jamaican': [0.97, .5],\n",
    "        'korean': [0.96, .4],\n",
    "        'moroccan': [0.87, .5],\n",
    "        'russian': [0.97, .5],\n",
    "        'spanish': [0.99, .4],\n",
    "        'thai': [0.91, .4],\n",
    "        'vietnamese': [0.97, .5],\n",
    "        # boost\n",
    "        'filipino': [1.04, .4],\n",
    "        'french': [1.08, .4],\n",
    "        'italian': [1.04, .3],\n",
    "        'japanese': [1.08, .3],\n",
    "        'mexican': [1.04, .4],\n",
    "        'southern_us': [1.06, .4],\n",
    "    }\n",
    "    if adj:\n",
    "        for cuisine, weight in weights.items():\n",
    "            points[cuisine] = smooth(points[cuisine], weight)\n",
    "    return points"
   ]
  },
  {
   "cell_type": "code",
   "execution_count": null,
   "metadata": {},
   "outputs": [],
   "source": [
    "points = make_points(props)\n",
    "scores = recipes.apply(lambda recipe: make_scores(recipe, points), axis='columns')\n",
    "output = pd.concat([recipes, scores], axis='columns')"
   ]
  },
  {
   "cell_type": "code",
   "execution_count": null,
   "metadata": {},
   "outputs": [],
   "source": []
  },
  {
   "cell_type": "code",
   "execution_count": null,
   "metadata": {},
   "outputs": [],
   "source": [
    "save_output(output)"
   ]
  },
  {
   "cell_type": "code",
   "execution_count": null,
   "metadata": {},
   "outputs": [],
   "source": []
  }
 ],
 "metadata": {
  "kernelspec": {
   "display_name": "Python 3",
   "language": "python",
   "name": "python3"
  },
  "language_info": {
   "codemirror_mode": {
    "name": "ipython",
    "version": 3
   },
   "file_extension": ".py",
   "mimetype": "text/x-python",
   "name": "python",
   "nbconvert_exporter": "python",
   "pygments_lexer": "ipython3",
   "version": "3.6.7"
  }
 },
 "nbformat": 4,
 "nbformat_minor": 2
}
