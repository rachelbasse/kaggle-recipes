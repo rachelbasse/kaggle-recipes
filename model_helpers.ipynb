{
 "cells": [
  {
   "cell_type": "code",
   "execution_count": null,
   "metadata": {},
   "outputs": [],
   "source": [
    "# imports\n",
    "\n",
    "# extra\n",
    "import numpy as np\n",
    "import pandas as pd\n",
    "import parfit.parfit as pf\n",
    "from sklearn.model_selection import ParameterGrid"
   ]
  },
  {
   "cell_type": "code",
   "execution_count": null,
   "metadata": {},
   "outputs": [],
   "source": [
    "def load_data():\n",
    "    cuisine = pd.read_csv('data/cuisine.csv', names=['cuisine'], header=None, index_col=0)\n",
    "    cuisine = cuisine.astype(np.unicode_)\n",
    "    train_ings = pd.read_csv('data/temp_train.csv', header=0, index_col=0)\n",
    "    train_ings = train_ings.astype(np.float64)\n",
    "    train = pd.concat((cuisine, train_ings), axis=1)\n",
    "    test = pd.read_csv('data/temp_test.csv', header=0, index_col=0)\n",
    "    test = test.astype(np.float64)\n",
    "    return (train, test)"
   ]
  },
  {
   "cell_type": "code",
   "execution_count": null,
   "metadata": {},
   "outputs": [],
   "source": [
    "def train_validate_split(data, val_size=.22, seed=1):\n",
    "    samples = []\n",
    "    for cuisine, group in data.groupby('cuisine'):\n",
    "        samples.append(group.sample(frac=val_size, replace=False, random_state=seed, axis='index'))\n",
    "    val = pd.concat(samples, axis='index')\n",
    "    train = data.drop(index=val.index)\n",
    "    X_train = train.drop('cuisine', axis=1)\n",
    "    X_val = val.drop('cuisine', axis=1)\n",
    "    y_train = train['cuisine']\n",
    "    y_val = val['cuisine']\n",
    "    return (X_train, y_train, X_val, y_val)"
   ]
  },
  {
   "cell_type": "code",
   "execution_count": null,
   "metadata": {},
   "outputs": [],
   "source": [
    "def test_hyperparams(clf, grid, metric, X_train, y_train, X_val, y_val):\n",
    "    param_grid = ParameterGrid(grid)\n",
    "    best_model, best_score, all_models, all_scores = pf.bestFit(\n",
    "        clf, param_grid, X_train, y_train, X_val, y_val, metric=metric, greater_is_better=True)\n",
    "    print(best_model, best_score)"
   ]
  },
  {
   "cell_type": "code",
   "execution_count": null,
   "metadata": {},
   "outputs": [],
   "source": [
    "pct = lambda v: int(v * 100)\n",
    "\n",
    "def test(X, y, title, clf, sampler=None, splits=3):\n",
    "    kfold = KFold(n_splits=splits, shuffle=True, random_state=1)\n",
    "    for train_i, test_i in kfold.split(X):\n",
    "        X_train, X_test = X.iloc[train_i], X.iloc[test_i]\n",
    "        y_train, y_test = y.iloc[train_i], y.iloc[test_i]\n",
    "        if sampler:\n",
    "            X_train, y_train = sampler.fit_resample(X_train, y_train)\n",
    "        model = clf.fit(X_train, y_train)\n",
    "        preds = model.predict(X_test)\n",
    "        print(metrics.accuracy_score(y_test, preds))\n",
    "        print(metrics.classification_report(y_test, preds))\n",
    "\n",
    "def get_errors(X, y, model, sort_col=None):\n",
    "    errors = []\n",
    "    preds = []\n",
    "    for i in range(X.shape[0]):\n",
    "        obs = X.iloc[i:i+1]\n",
    "        real = y.iloc[i]\n",
    "        y_pred = model.predict(obs)\n",
    "        if y_pred != [real]:\n",
    "            errors.append(i)\n",
    "            preds.append(y_pred)\n",
    "    errs = pd.concat([X.iloc[errors], y.iloc[errors]], axis=1)\n",
    "    preds_df = pd.DataFrame(preds, index=errs.index, columns=['pred'])\n",
    "    errs = pd.concat([errs, preds_df], axis=1)\n",
    "    print('Errors:', errs.shape[0])\n",
    "    if sort_col:\n",
    "        errs.sort_values(sort_col, inplace=True)\n",
    "    return errs"
   ]
  },
  {
   "cell_type": "code",
   "execution_count": null,
   "metadata": {},
   "outputs": [],
   "source": [
    "answers = pd.read_csv('data/submission.csv', header=0, index_col=0)"
   ]
  }
 ],
 "metadata": {
  "kernelspec": {
   "display_name": "Python 3",
   "language": "python",
   "name": "python3"
  },
  "language_info": {
   "codemirror_mode": {
    "name": "ipython",
    "version": 3
   },
   "file_extension": ".py",
   "mimetype": "text/x-python",
   "name": "python",
   "nbconvert_exporter": "python",
   "pygments_lexer": "ipython3",
   "version": "3.6.7"
  }
 },
 "nbformat": 4,
 "nbformat_minor": 2
}
