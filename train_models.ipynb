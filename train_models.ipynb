{
 "cells": [
  {
   "cell_type": "code",
   "execution_count": null,
   "metadata": {},
   "outputs": [],
   "source": [
    "# Imports\n",
    "from imblearn.over_sampling import RandomOverSampler\n",
    "import numpy as np\n",
    "import pandas as pd\n",
    "import seaborn as sns\n",
    "from sklearn import metrics\n",
    "from sklearn.ensemble import AdaBoostClassifier, RandomForestClassifier\n",
    "from sklearn.linear_model import LogisticRegression\n",
    "from sklearn.model_selection import KFold\n",
    "from sklearn.svm import SVC, LinearSVC\n",
    "from sklearn.tree import DecisionTreeClassifier\n",
    "from xgboost import XGBClassifier"
   ]
  },
  {
   "cell_type": "code",
   "execution_count": null,
   "metadata": {},
   "outputs": [],
   "source": [
    "cuisine = pd.read_csv('data/cuisine.csv', names=['cuisine'], header=None, index_col=0)\n",
    "cuisine = cuisine.astype('category')"
   ]
  },
  {
   "cell_type": "code",
   "execution_count": null,
   "metadata": {},
   "outputs": [],
   "source": [
    "train_ings = pd.read_csv('data/phrases_cleaned_train.csv', header=0, index_col=0)\n",
    "train_ings = train_ings.astype(np.uint8)"
   ]
  },
  {
   "cell_type": "code",
   "execution_count": null,
   "metadata": {},
   "outputs": [],
   "source": [
    "test = pd.read_csv('data/phrases_cleaned_test.csv', header=0, index_col=0)\n",
    "test = test.astype(np.uint8)"
   ]
  },
  {
   "cell_type": "code",
   "execution_count": null,
   "metadata": {},
   "outputs": [],
   "source": [
    "train = pd.concat((cuisine, train_ings), axis=1)"
   ]
  },
  {
   "cell_type": "code",
   "execution_count": null,
   "metadata": {},
   "outputs": [],
   "source": [
    "train.head()"
   ]
  },
  {
   "cell_type": "code",
   "execution_count": null,
   "metadata": {},
   "outputs": [],
   "source": [
    "#train = pd.get_dummies(train_raw)\n",
    "#test = pd.get_dummies(test_raw)\n",
    "X = train.drop('cuisine', axis=1)\n",
    "y = train['cuisine']"
   ]
  },
  {
   "cell_type": "code",
   "execution_count": null,
   "metadata": {},
   "outputs": [],
   "source": [
    "pct = lambda v: int(v * 100)\n",
    "\n",
    "def test_data(X, y, title, clf, sampler=None, splits=3):\n",
    "    kfold = KFold(n_splits=splits, shuffle=True)\n",
    "    #avgs = []\n",
    "    for train_i, test_i in kfold.split(X):\n",
    "        X_train, X_test = X.iloc[train_i], X.iloc[test_i]\n",
    "        y_train, y_test = y.iloc[train_i], y.iloc[test_i]\n",
    "        if sampler:\n",
    "            X_train, y_train = sampler.fit_resample(X_train, y_train)\n",
    "        model = clf.fit(X_train, y_train)\n",
    "        preds = model.predict(X_test)\n",
    "        #print(' '.join('{1}{0:.10}'.format(k, int(v * 100)) for v, k in sorted(zip(model.feature_importances_, X.columns), reverse=True)[:6]))\n",
    "        #report = metrics.classification_report(y_test, preds, output_dict=True)\n",
    "        #avgs.append((metrics.accuracy_score(y_test, preds)))\n",
    "        print(metrics.accuracy_score(y_test, preds))\n",
    "        print(metrics.classification_report(y_test, preds))\n",
    "    #avg = [pct(sum(lst)/3) for lst in zip(*avgs)]\n",
    "    #print(avg, '='*5, title, '='*5)\n",
    "\n",
    "\n",
    "def tests():\n",
    "    test_data(X, y, 'LRC', lrc)\n",
    "    #test_data(X, y, 'SVC', svc)\n",
    "    #test_data(X, y, 'SVC', lsvc)\n",
    "    #test_data(X, y, 'ABC', abc)\n",
    "    #test_data(X, y, 'XGBoost', xgc)\n",
    "    #test_data(X, y, 'Decision Tree', dtc)\n",
    "    #test_data(X, y, 'Random Forest', rfc)"
   ]
  },
  {
   "cell_type": "code",
   "execution_count": null,
   "metadata": {},
   "outputs": [],
   "source": [
    "samp = RandomOverSampler(sampling_strategy='minority')\n",
    "dtce = DecisionTreeClassifier(max_depth=1, criterion='gini', min_samples_split=2, min_samples_leaf=10, class_weight=None)\n",
    "dtc = DecisionTreeClassifier(max_depth=None, criterion='gini', min_samples_split=10, min_samples_leaf=10, class_weight=None)\n",
    "xgc = XGBClassifier(booster='gbtree', max_depth=10, eta=.3, min_child_weight=10)\n",
    "abc = AdaBoostClassifier(base_estimator=dtce, n_estimators=50, learning_rate=.1)\n",
    "lrc = LogisticRegression(solver='lbfgs', multi_class='multinomial', max_iter=500, tol=0.0001, C=5.0, fit_intercept=False, intercept_scaling=1, class_weight=None)\n",
    "rfc = RandomForestClassifier(n_estimators=100, criterion='gini', max_depth=None, min_samples_split=2, min_samples_leaf=1, class_weight=None)\n",
    "svc = SVC()\n",
    "lsvc = LinearSVC()"
   ]
  },
  {
   "cell_type": "code",
   "execution_count": null,
   "metadata": {},
   "outputs": [],
   "source": [
    "tests()"
   ]
  },
  {
   "cell_type": "code",
   "execution_count": null,
   "metadata": {},
   "outputs": [],
   "source": [
    "# Output Test\n",
    "#X, y = samp.fit_resample(X, y)\n",
    "model = lrc.fit(X, y)\n",
    "preds = model.predict(test)"
   ]
  },
  {
   "cell_type": "code",
   "execution_count": null,
   "metadata": {},
   "outputs": [],
   "source": [
    "res = pd.DataFrame(preds, index=test.index, columns=['Survived'])\n",
    "res.index.names = ['PassengerId']"
   ]
  },
  {
   "cell_type": "code",
   "execution_count": null,
   "metadata": {},
   "outputs": [],
   "source": [
    "res.to_csv('preds/preds_logreg_imb.csv', header=True, index=True)"
   ]
  }
 ],
 "metadata": {
  "kernelspec": {
   "display_name": "Python 3",
   "language": "python",
   "name": "python3"
  },
  "language_info": {
   "codemirror_mode": {
    "name": "ipython",
    "version": 3
   },
   "file_extension": ".py",
   "mimetype": "text/x-python",
   "name": "python",
   "nbconvert_exporter": "python",
   "pygments_lexer": "ipython3",
   "version": "3.7.0"
  }
 },
 "nbformat": 4,
 "nbformat_minor": 2
}
