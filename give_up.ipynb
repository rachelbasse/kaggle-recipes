{
 "cells": [
  {
   "cell_type": "code",
   "execution_count": null,
   "metadata": {},
   "outputs": [],
   "source": [
    "# imports\n",
    "\n",
    "# standard\n",
    "from functools import reduce\n",
    "\n",
    "# extra\n",
    "import numpy as np\n",
    "import pandas as pd\n",
    "from sklearn.ensemble import RandomForestClassifier, VotingClassifier\n",
    "from sklearn.feature_extraction.text import TfidfVectorizer\n",
    "from sklearn.linear_model import LogisticRegression\n",
    "from sklearn.metrics import confusion_matrix\n",
    "from sklearn.model_selection import GridSearchCV\n",
    "from sklearn.neighbors import KNeighborsClassifier\n",
    "from sklearn.pipeline import Pipeline\n",
    "from sklearn.preprocessing import MinMaxScaler, FunctionTransformer\n",
    "from sklearn.svm import SVC\n",
    "\n",
    "# local\n",
    "from feature_helpers import *\n",
    "\n",
    "# display settings\n",
    "pd.set_option('display.max_columns', 21)\n",
    "pd.set_option('display.max_colwidth', 400)\n",
    "pd.set_option('display.precision', 4)\n",
    "pd.set_option('display.width', 1600)"
   ]
  },
  {
   "cell_type": "code",
   "execution_count": null,
   "metadata": {},
   "outputs": [],
   "source": [
    "def load_data():\n",
    "    cuisine = pd.read_csv('data/cuisine.csv', names=['cuisine'], header=None, index_col=0)\n",
    "    cuisine = cuisine.astype(np.unicode_)\n",
    "    train_ings = pd.read_csv('data/temp_train.csv', header=0, index_col=0)\n",
    "    train_ings = train_ings.astype(np.float64)\n",
    "    train = pd.concat((cuisine, train_ings), axis=1)\n",
    "    test = pd.read_csv('data/temp_test.csv', header=0, index_col=0)\n",
    "    test = test.astype(np.float64)\n",
    "    return (train, test)\n",
    "\n",
    "train, test = load_data()"
   ]
  },
  {
   "cell_type": "code",
   "execution_count": null,
   "metadata": {},
   "outputs": [],
   "source": [
    "def reweight_features(features):\n",
    "    reweighted = features.copy()\n",
    "    reweighted[:, 0:40] *= 3\n",
    "    reweighted[:, 60:100] *= 2.5\n",
    "    return reweighted\n",
    "\n",
    "scale = MinMaxScaler()\n",
    "reweight = FunctionTransformer(reweight_features, validate=False)"
   ]
  },
  {
   "cell_type": "code",
   "execution_count": null,
   "metadata": {},
   "outputs": [],
   "source": [
    "X_scores = train.drop(columns=['cuisine'])\n",
    "y = train['cuisine']\n",
    "X_scores = scale.fit_transform(X_scores)\n",
    "test_scores = scale.transform(test)\n",
    "X_scores = reweight.fit_transform(X_scores)\n",
    "test_scores = reweight.transform(test_scores)"
   ]
  },
  {
   "cell_type": "code",
   "execution_count": null,
   "metadata": {},
   "outputs": [],
   "source": [
    "svc = SVC(C=5, gamma=.02, kernel='rbf', class_weight=None, shrinking=True, max_iter=-1, probability=True, cache_size=350)\n",
    "lrc = LogisticRegression(C=1, solver='newton-cg', penalty='l2', multi_class='multinomial', class_weight=None, fit_intercept=True, max_iter=200)\n",
    "rfc = RandomForestClassifier(min_samples_split=10, min_samples_leaf=2, n_estimators=800, max_depth=None, class_weight=None, criterion='gini')\n",
    "knc = KNeighborsClassifier(n_neighbors=30, metric='euclidean', p=2, weights='distance', n_jobs=-1)"
   ]
  },
  {
   "cell_type": "code",
   "execution_count": null,
   "metadata": {},
   "outputs": [],
   "source": [
    "probs_scores = []\n",
    "for clf in [svc, lrc, rfc, knc]:\n",
    "    clf.fit(X_scores, y)\n",
    "    print(clf.score(X_scores, y))\n",
    "    probs = pd.DataFrame(clf.predict_proba(test_scores), columns=clf.classes_, index=test.index)\n",
    "    probs_scores.append(probs)"
   ]
  },
  {
   "cell_type": "code",
   "execution_count": null,
   "metadata": {},
   "outputs": [],
   "source": [
    "recipes = load_clean_data()"
   ]
  },
  {
   "cell_type": "code",
   "execution_count": null,
   "metadata": {},
   "outputs": [],
   "source": [
    "recipes.strings = remove_dupes(recipes.strings)\n",
    "recipes.strings = recipes.strings.map(lambda ings: ' '.join(ings))"
   ]
  },
  {
   "cell_type": "code",
   "execution_count": null,
   "metadata": {},
   "outputs": [],
   "source": [
    "X_tfidfs = recipes.query('cuisine != \"test\"').strings\n",
    "test_tfidfs = recipes.query('cuisine == \"test\"').strings"
   ]
  },
  {
   "cell_type": "code",
   "execution_count": null,
   "metadata": {},
   "outputs": [],
   "source": [
    "vectorizer = TfidfVectorizer(ngram_range=(1, 1), max_df=1.0, min_df=1, token_pattern=r'[\\w\\-_]+',\n",
    "                             norm='l2', binary=True, use_idf=True, smooth_idf=True, sublinear_tf=False,\n",
    "                             analyzer='word', encoding='utf-8', strip_accents=None, \n",
    "                             stop_words=None, max_features=None, lowercase=False)"
   ]
  },
  {
   "cell_type": "code",
   "execution_count": null,
   "metadata": {},
   "outputs": [],
   "source": [
    "X_tfidfs = vectorizer.fit_transform(X_tfidfs)\n",
    "test_tfidfs = vectorizer.transform(test_tfidfs)"
   ]
  },
  {
   "cell_type": "code",
   "execution_count": null,
   "metadata": {},
   "outputs": [],
   "source": [
    "svc_tfidfs = SVC(C=5, gamma=.8, kernel='rbf', class_weight=None, shrinking=True, max_iter=-1, probability=True, cache_size=350)\n",
    "lrc_tfidfs = LogisticRegression(C=1, solver='newton-cg', penalty='l2', multi_class='multinomial', class_weight=None, fit_intercept=True, max_iter=200)"
   ]
  },
  {
   "cell_type": "code",
   "execution_count": null,
   "metadata": {},
   "outputs": [],
   "source": [
    "probs_tfidfs = []\n",
    "for clf in [svc_tfidfs, lrc_tfidfs]:\n",
    "    clf.fit(X_tfidfs, y)\n",
    "    print(clf.score(X_tfidfs, y))\n",
    "    probs = pd.DataFrame(clf.predict_proba(test_tfidfs), columns=clf.classes_, index=test.index)\n",
    "    probs_tfidfs.append(probs)"
   ]
  },
  {
   "cell_type": "code",
   "execution_count": null,
   "metadata": {},
   "outputs": [],
   "source": [
    "probs_sum = reduce(lambda x, y: x.add(y, fill_value=0.0), probs_tfidfs)\n",
    "preds_softmax = probs_sum.idxmax(axis='columns')\n",
    "output = pd.DataFrame(preds_softmax, columns=['cuisine'])"
   ]
  },
  {
   "cell_type": "code",
   "execution_count": null,
   "metadata": {},
   "outputs": [],
   "source": [
    "probs_features = []\n",
    "for clf in [svc, lrc, rfc, knc]:\n",
    "    print('patience...')\n",
    "    probs = pd.DataFrame(clf.predict_proba(X_scores), columns=clf.classes_, index=train.index)\n",
    "    probs_features.append(probs)\n",
    "for clf in [svc_tfidfs, lrc_tfidfs]:\n",
    "    print('patience...')\n",
    "    probs = pd.DataFrame(clf.predict_proba(X_tfidfs), columns=clf.classes_, index=train.index)\n",
    "    probs_features.append(probs)"
   ]
  },
  {
   "cell_type": "code",
   "execution_count": null,
   "metadata": {},
   "outputs": [],
   "source": [
    "X_probs = pd.concat(probs_features, axis='columns')\n",
    "test_probs = pd.concat(probs_scores + probs_tfidfs, axis='columns')"
   ]
  },
  {
   "cell_type": "code",
   "execution_count": null,
   "metadata": {},
   "outputs": [],
   "source": [
    "svc = SVC(kernel='rbf', shrinking=True, class_weight=None, max_iter=-1, random_state=1, cache_size=350, probability=False)\n",
    "lrc = LogisticRegression(penalty='l2', multi_class='multinomial', fit_intercept=True, class_weight=None, random_state=1, n_jobs=-1)\n",
    "param_grid = {\n",
    "    #'C': [1, 5, 10],\n",
    "    #'gamma': [.1, 1],\n",
    "    'solver': ['newton-cg', 'lbfgs'],\n",
    "    'C': [1, 10, 50],\n",
    "} # svc c=1,g=.1\n",
    "search = GridSearchCV(lrc, param_grid, cv=3, scoring='accuracy', return_train_score=True, refit=False, n_jobs=-1, verbose=10)\n",
    "search.fit(X_probs, y)\n",
    "search_results = pd.DataFrame.from_dict(search.cv_results_, orient='columns')\n",
    "search_results[['params', 'mean_test_score', 'mean_train_score']].sort_values('mean_test_score')"
   ]
  },
  {
   "cell_type": "code",
   "execution_count": null,
   "metadata": {},
   "outputs": [],
   "source": [
    "stack_svc = SVC(C=1, gamma=.1, kernel='rbf', shrinking=True, class_weight=None, max_iter=-1, random_state=1, cache_size=350, probability=False)\n",
    "stack_lrc = LogisticRegression(C=1, solver='newton-cg', penalty='l2', multi_class='multinomial', fit_intercept=True, class_weight=None, random_state=1, n_jobs=-1)"
   ]
  },
  {
   "cell_type": "code",
   "execution_count": null,
   "metadata": {},
   "outputs": [],
   "source": [
    "X_probs = pd.concat([probs_features[0], probs_features[4]], axis='columns')\n",
    "test_probs = pd.concat([probs_scores[0], probs_tfidfs[0]], axis='columns')"
   ]
  },
  {
   "cell_type": "code",
   "execution_count": null,
   "metadata": {},
   "outputs": [],
   "source": [
    "model = stack_lrc.fit(X_probs, y)\n",
    "print(model.score(X_probs, y))\n",
    "preds = model.predict(test_probs)\n",
    "output = pd.DataFrame(preds, index=test.index, columns=['cuisine'])"
   ]
  },
  {
   "cell_type": "code",
   "execution_count": null,
   "metadata": {},
   "outputs": [],
   "source": [
    "answers = pd.read_csv('data/submission.csv', header=0, index_col=0)\n",
    "baseline = pd.read_csv('data/baseline.csv', header=0, index_col=0)"
   ]
  },
  {
   "cell_type": "code",
   "execution_count": null,
   "metadata": {},
   "outputs": [],
   "source": [
    "compare = pd.concat([output, answers, baseline], axis='columns')\n",
    "compare.columns = ['pred', 'real', 'base']\n",
    "errors = compare.query('pred != real')\n",
    "changes = compare.query('pred != base')\n",
    "print(len(errors), len(changes)) # 1251, 1058"
   ]
  },
  {
   "cell_type": "code",
   "execution_count": null,
   "metadata": {},
   "outputs": [],
   "source": [
    "labels = sorted(errors.real.unique())\n",
    "cnf = confusion_matrix(errors.real, errors.pred, labels=labels)\n",
    "plot_cnf(cnf, labels)\n",
    "falpos_counts, falneg_counts = errors.pred.value_counts(), errors.real.value_counts()\n",
    "pd.concat([falpos_counts, falneg_counts, falpos_counts + falneg_counts, output.cuisine.value_counts()], axis='columns', sort=False)"
   ]
  },
  {
   "cell_type": "code",
   "execution_count": null,
   "metadata": {},
   "outputs": [],
   "source": []
  },
  {
   "cell_type": "code",
   "execution_count": null,
   "metadata": {},
   "outputs": [],
   "source": [
    "output.to_csv('preds/tfidf_stack_lrc_1v1.csv', header=True, encoding='utf-8')"
   ]
  },
  {
   "cell_type": "code",
   "execution_count": null,
   "metadata": {},
   "outputs": [],
   "source": []
  }
 ],
 "metadata": {
  "kernelspec": {
   "display_name": "Python 3",
   "language": "python",
   "name": "python3"
  },
  "language_info": {
   "codemirror_mode": {
    "name": "ipython",
    "version": 3
   },
   "file_extension": ".py",
   "mimetype": "text/x-python",
   "name": "python",
   "nbconvert_exporter": "python",
   "pygments_lexer": "ipython3",
   "version": "3.6.7"
  }
 },
 "nbformat": 4,
 "nbformat_minor": 2
}
