{
 "cells": [
  {
   "cell_type": "code",
   "execution_count": null,
   "metadata": {},
   "outputs": [],
   "source": [
    "# imports\n",
    "from collections import Counter, defaultdict, namedtuple\n",
    "\n",
    "#extra\n",
    "import numpy as np\n",
    "import pandas as pd"
   ]
  },
  {
   "cell_type": "code",
   "execution_count": null,
   "metadata": {},
   "outputs": [],
   "source": [
    "percent = lambda x, y: round(100 * x / y)\n",
    "flatten = lambda lists: [item for lst in lists for item in lst]"
   ]
  },
  {
   "cell_type": "code",
   "execution_count": null,
   "metadata": {},
   "outputs": [],
   "source": [
    "Ing = namedtuple('Ing', ['head', 'mods', 'states', 'brands', 'langs', 'cuisine', 'rcpid'])\n",
    "\n",
    "def load_clean_data():\n",
    "    recipes = pd.read_csv('data/cleaned_data.csv', header=0, index_col=0, encoding='utf-8',\n",
    "                          # convert named tuple literals to Ings\n",
    "                          converters={'ingredients': lambda x: eval(x)})\n",
    "    print('{:,} recipes'.format(recipes.shape[0]))\n",
    "    return recipes"
   ]
  },
  {
   "cell_type": "code",
   "execution_count": null,
   "metadata": {},
   "outputs": [],
   "source": [
    "def group_by(ings, attribute):\n",
    "    groups = defaultdict(list)\n",
    "    for ing in ings:\n",
    "        groups[getattr(ing, attribute)].append(ing)\n",
    "    return groups"
   ]
  },
  {
   "cell_type": "code",
   "execution_count": null,
   "metadata": {},
   "outputs": [],
   "source": [
    "def make_metrics(recipes):\n",
    "    columns = []\n",
    "    recipe_count = []\n",
    "    recipe_mean_length = []\n",
    "    head_count = []\n",
    "    unique_count = []\n",
    "    rare_count = []\n",
    "    for cuisine, group in recipes.groupby('cuisine'):\n",
    "        columns.append(cuisine)\n",
    "        recipe_count.append(group.shape[0])\n",
    "        recipe_mean_length.append(round(group.ingredients.apply(len).mean()))\n",
    "        head_list = [ing.heads[0] for ings in group.ingredients for ing in ings]\n",
    "        head_count.append(len(head_list))\n",
    "        head_counts = Counter(head_list)\n",
    "        unique_count.append(len(head_counts))\n",
    "        rare_head = 0\n",
    "        for head, count in head_counts.items():\n",
    "            if count < 4:\n",
    "                rare_head += 1\n",
    "        rare_count.append(rare_head)\n",
    "    rare_pct = [percent(rare, total) for rare, total in zip(rare_count, unique_count)]\n",
    "    index = ['recipe_count', 'recipe_length', 'unique_count', 'head_count', 'rare_count', 'rare_pct', 'cuisine']\n",
    "    metrics = pd.DataFrame([recipe_count, recipe_mean_length, unique_count, head_count, rare_count, rare_pct, columns],\n",
    "                           index=index, columns=columns, dtype=np.uint32)\n",
    "    return metrics.transpose()"
   ]
  },
  {
   "cell_type": "code",
   "execution_count": null,
   "metadata": {},
   "outputs": [],
   "source": [
    "def make_attribute_counts(ings, attribute, categories):\n",
    "    atts = defaultdict(list)\n",
    "    for ing in iter(ings):\n",
    "        for att in getattr(ing, attribute):\n",
    "            atts[att].append(ing.cuisine)\n",
    "    att_counts = {}\n",
    "    for att, cuisine_list in atts.items():\n",
    "        att_counts[att] = Counter(cuisine_list)\n",
    "    counts = pd.DataFrame.from_dict(att_counts, orient='index', columns=categories, dtype=np.float64)\n",
    "    counts.fillna(0.0, inplace=True)\n",
    "    return counts"
   ]
  },
  {
   "cell_type": "code",
   "execution_count": null,
   "metadata": {},
   "outputs": [],
   "source": [
    "def normalize_counts(counts, weights=None):\n",
    "    if weights:\n",
    "        counts = counts.apply(lambda col: col.map(lambda x: x / weights[col.name]), axis='index')\n",
    "    count_min = counts.values.min()\n",
    "    count_range = counts.values.max() - count_min\n",
    "    counts = counts.applymap(lambda x: (x - count_min) / count_range)\n",
    "    return counts"
   ]
  },
  {
   "cell_type": "code",
   "execution_count": null,
   "metadata": {},
   "outputs": [],
   "source": [
    "def equalize_counts(counts, smoothing=.6):\n",
    "    proportions = counts.T / counts.sum(axis='columns')\n",
    "    smooth_tails = lambda x: x / (smoothing + x)\n",
    "    if smoothing:\n",
    "        proportions = proportions.applymap(smooth_tails)\n",
    "    return proportions.T"
   ]
  },
  {
   "cell_type": "code",
   "execution_count": null,
   "metadata": {},
   "outputs": [],
   "source": [
    "def make_scores(recipe, counts):\n",
    "    def get_scores(ings):\n",
    "        features = flatten([getattr(ing, att) for ing in ings])\n",
    "        scores = counts.loc[features].drop(columns=['test'])\n",
    "        if not features:\n",
    "            return scores.sum(axis='index')\n",
    "        return scores.sum(axis='index') / len(features)\n",
    "    att_scores = []\n",
    "    for att in ['mods', 'states', 'brands', 'langs']:\n",
    "        recipe_scores = get_scores(recipe.ingredients)\n",
    "        att_scores.append(recipe_scores.add_prefix('{}_'.format(att)))\n",
    "    return pd.concat(att_scores, axis='index')"
   ]
  },
  {
   "cell_type": "code",
   "execution_count": null,
   "metadata": {},
   "outputs": [],
   "source": [
    "def replace_rare_name(name):\n",
    "    parts = name.split('-')\n",
    "    parts[-1] = 'raretype'\n",
    "    return '-'.join(parts)"
   ]
  },
  {
   "cell_type": "code",
   "execution_count": null,
   "metadata": {},
   "outputs": [],
   "source": [
    "def make_indicators(recipes, rare_cutoff=0, common_cutoff=None):\n",
    "    get_ing_attributes = lambda ings: flatten([ing.mods + ing.states + ing.brands + ing.langs for ing in ings])\n",
    "    recipe_features = recipes.ingredients.map(get_ing_attributes)\n",
    "    all_features = sorted(set(flatten(recipe_features)))\n",
    "    feature_array = np.zeros([len(recipe_features), len(all_features)], dtype=np.uint8)\n",
    "    feature_index = {feature: i for i, feature in enumerate(all_features)}\n",
    "    for row_i, features in enumerate(recipe_features):\n",
    "        for feature in features:\n",
    "            feature_array[row_i, feature_index[feature]] = 1\n",
    "    features = pd.DataFrame(feature_array, index=recipe_features.index, columns=all_features)\n",
    "    feature_counts = features.sum(axis='index')\n",
    "    if common_cutoff:\n",
    "        common_value = feature_counts.quantile(q=common_cutoff)\n",
    "        common_features = feature_counts[feature_counts >= common_value].index\n",
    "        features = features.drop(columns=common_features)\n",
    "        print('dropped {} common features >= count {}'.format(len(common_features), int(common_value)))\n",
    "    rare_value = feature_counts.quantile(q=rare_cutoff)\n",
    "    rare_features = feature_counts[feature_counts <= rare_value].index\n",
    "    for rare_feature in rare_features:\n",
    "        super_feature = replace_rare_name(rare_feature)\n",
    "        if super_feature in features:\n",
    "            features[super_feature] += features[rare_feature]\n",
    "            continue\n",
    "        features[super_feature] = features[rare_feature]\n",
    "    features = features.drop(columns=rare_features)\n",
    "    print('merged {} rare features <= count {}'.format(len(rare_features), int(rare_value)))\n",
    "    return features"
   ]
  },
  {
   "cell_type": "code",
   "execution_count": null,
   "metadata": {},
   "outputs": [],
   "source": [
    "def save_output(output):\n",
    "    output = output.drop(columns=['ingredients'])\n",
    "    \n",
    "    train = output.query('cuisine != \"test\"')\n",
    "    test = output.query('cuisine == \"test\"')\n",
    "    \n",
    "    train.cuisine.to_csv('data/cuisine.csv', header=False, encoding='utf-8')\n",
    "    \n",
    "    train = train.drop(columns=['cuisine'])\n",
    "    test = test.drop(columns=['cuisine'])\n",
    "    \n",
    "    train.to_csv('data/temp_train.csv', header=True, encoding='utf-8') \n",
    "    test.to_csv('data/temp_test.csv', header=True, encoding='utf-8')"
   ]
  }
 ],
 "metadata": {
  "kernelspec": {
   "display_name": "Python 3",
   "language": "python",
   "name": "python3"
  },
  "language_info": {
   "codemirror_mode": {
    "name": "ipython",
    "version": 3
   },
   "file_extension": ".py",
   "mimetype": "text/x-python",
   "name": "python",
   "nbconvert_exporter": "python",
   "pygments_lexer": "ipython3",
   "version": "3.6.7"
  }
 },
 "nbformat": 4,
 "nbformat_minor": 2
}
