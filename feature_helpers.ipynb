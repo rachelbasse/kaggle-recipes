{
 "cells": [
  {
   "cell_type": "code",
   "execution_count": null,
   "metadata": {},
   "outputs": [],
   "source": [
    "# imports\n",
    "from collections import Counter, defaultdict, namedtuple\n",
    "\n",
    "#extra\n",
    "import numpy as np\n",
    "import pandas as pd\n",
    "from sklearn.feature_extraction.text import TfidfVectorizer"
   ]
  },
  {
   "cell_type": "code",
   "execution_count": null,
   "metadata": {},
   "outputs": [],
   "source": [
    "percent = lambda x, y: round(100 * x / y)"
   ]
  },
  {
   "cell_type": "code",
   "execution_count": null,
   "metadata": {},
   "outputs": [],
   "source": [
    "Ing = namedtuple('Ing', ['heads', 'states', 'brands', 'langs', 'cuisine', 'rcpid'])\n",
    "\n",
    "def load_clean_data():\n",
    "    recipes = pd.read_csv('data/cleaned_data.csv', header=0, index_col=0, encoding='utf-8',\n",
    "                          # convert named tuple literals to Ings\n",
    "                          converters={'ingredients': lambda x: eval(x)})\n",
    "    print('{:,} recipes'.format(recipes.shape[0]))\n",
    "    return recipes"
   ]
  },
  {
   "cell_type": "code",
   "execution_count": null,
   "metadata": {},
   "outputs": [],
   "source": [
    "def get_metrics(recipes):\n",
    "    columns = []\n",
    "    recipe_count = []\n",
    "    recipe_mean_length = []\n",
    "    head_count = []\n",
    "    unique_count = []\n",
    "    rare_count = []\n",
    "    for cuisine, group in recipes.groupby('cuisine'):\n",
    "        columns.append(cuisine)\n",
    "        recipe_count.append(group.shape[0])\n",
    "        recipe_mean_length.append(round(group.ingredients.apply(len).mean()))\n",
    "        head_list = [ing.heads[0] for ings in group.ingredients for ing in ings]\n",
    "        head_count.append(len(head_list))\n",
    "        head_counts = Counter(head_list)\n",
    "        unique_count.append(len(head_counts))\n",
    "        rare_head = 0\n",
    "        for head, count in head_counts.items():\n",
    "            if count < 4:\n",
    "                rare_head += 1\n",
    "        rare_count.append(rare_head)\n",
    "    rare_pct = [percent(rare, total) for rare, total in zip(rare_count, unique_count)]\n",
    "    index = ['recipe_count', 'recipe_length', 'unique_count', 'head_count', 'rare_count', 'rare_pct', 'cuisine']\n",
    "    metrics = pd.DataFrame([recipe_count, recipe_mean_length, unique_count, head_count, rare_count, rare_pct, columns],\n",
    "                           index=index, columns=columns, dtype=np.uint32)\n",
    "    return metrics.transpose()"
   ]
  },
  {
   "cell_type": "code",
   "execution_count": null,
   "metadata": {},
   "outputs": [],
   "source": [
    "def make_counts(ings, attribute, categories, attribute_type='list'):\n",
    "    atts = defaultdict(list)\n",
    "    for ing in iter(ings):\n",
    "        if attribute_type == 'list':\n",
    "            for att in getattr(ing, attribute):\n",
    "                atts[att].append(ing.cuisine)\n",
    "        if attribute_type == 'string':\n",
    "            att = ' '.join(getattr(ing, attribute))\n",
    "            atts[att].append(ing.cuisine)\n",
    "    att_counts = {}\n",
    "    for att, cuisine_list in atts.items():\n",
    "        att_counts[att] = Counter(cuisine_list)\n",
    "    counts = pd.DataFrame.from_dict(att_counts, orient='index', columns=categories, dtype=np.float64)\n",
    "    counts.fillna(0.0, inplace=True)\n",
    "    return counts"
   ]
  },
  {
   "cell_type": "code",
   "execution_count": null,
   "metadata": {},
   "outputs": [],
   "source": [
    "def normalize_counts(counts, weights=None):\n",
    "    if weights:\n",
    "        counts = counts.apply(lambda col: col.map(lambda x: x / weights[col.name]), axis='index')\n",
    "    count_min = counts.values.min()\n",
    "    count_range = counts.values.max() - count_min\n",
    "    counts = counts.applymap(lambda x: (x - count_min) / count_range)\n",
    "    return counts"
   ]
  },
  {
   "cell_type": "code",
   "execution_count": null,
   "metadata": {},
   "outputs": [],
   "source": [
    "def save_output(output):\n",
    "    output = output.drop(columns=['ingredients'])\n",
    "    \n",
    "    train = output.query('cuisine != \"test\"')\n",
    "    test = output.query('cuisine == \"test\"')\n",
    "    \n",
    "    train.cuisine.to_csv('data/cuisine.csv', header=False, encoding='utf-8')\n",
    "    \n",
    "    train = train.drop(columns=['cuisine'])\n",
    "    test = test.drop(columns=['cuisine'])\n",
    "    \n",
    "    train.to_csv('data/temp_train.csv', header=True, encoding='utf-8') \n",
    "    test.to_csv('data/temp_test.csv', header=True, encoding='utf-8')"
   ]
  },
  {
   "cell_type": "code",
   "execution_count": null,
   "metadata": {},
   "outputs": [],
   "source": [
    "def make_tfidfs(recipes):\n",
    "    doc_names = []\n",
    "    doc_strings = []\n",
    "    for cuisine, group in recipes.groupby('cuisine'):\n",
    "        doc_names.append(cuisine)\n",
    "        doc_strings.append(' '.join([ing for ings in group.ingredients for ing in ings]))\n",
    "    vectorizer = TfidfVectorizer(encoding='utf-8', ngram_range=(1, 1), max_df=1.0, min_df=1, max_features=None, \n",
    "                                 strip_accents=None, token_pattern=r'[\\w-]+', analyzer='word', stop_words=None)\n",
    "    tfidfs = vectorizer.fit_transform(doc_strings)\n",
    "    feature_names = vectorizer.get_feature_names()\n",
    "    tfidfs = pd.SparseDataFrame(tfidfs).to_dense()\n",
    "    tfidfs.fillna(0, inplace=True)\n",
    "    tfidfs.index = doc_names\n",
    "    tfidfs.columns = feature_names\n",
    "    return tfidfs"
   ]
  },
  {
   "cell_type": "code",
   "execution_count": null,
   "metadata": {},
   "outputs": [],
   "source": [
    "def smooth_tfidfs(tfidfs, intensity):\n",
    "    tfidf_fracs = tfidfs / tfidfs.sum(axis='index')\n",
    "    smooth_tails = lambda x: x / (intensity + x)\n",
    "    return tfidf_fracs.applymap(smooth_tails)"
   ]
  },
  {
   "cell_type": "code",
   "execution_count": null,
   "metadata": {},
   "outputs": [],
   "source": []
  }
 ],
 "metadata": {
  "kernelspec": {
   "display_name": "Python 3",
   "language": "python",
   "name": "python3"
  },
  "language_info": {
   "codemirror_mode": {
    "name": "ipython",
    "version": 3
   },
   "file_extension": ".py",
   "mimetype": "text/x-python",
   "name": "python",
   "nbconvert_exporter": "python",
   "pygments_lexer": "ipython3",
   "version": "3.6.7"
  }
 },
 "nbformat": 4,
 "nbformat_minor": 2
}
