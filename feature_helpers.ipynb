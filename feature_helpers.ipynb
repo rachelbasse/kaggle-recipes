{
 "cells": [
  {
   "cell_type": "code",
   "execution_count": null,
   "metadata": {},
   "outputs": [],
   "source": [
    "# imports\n",
    "from collections import Counter\n",
    "\n",
    "#extra\n",
    "import numpy as np\n",
    "import pandas as pd\n",
    "from sklearn.feature_extraction.text import TfidfVectorizer"
   ]
  },
  {
   "cell_type": "code",
   "execution_count": null,
   "metadata": {},
   "outputs": [],
   "source": [
    "def load_clean_data():\n",
    "    recipes = pd.read_csv('data/cleaned_data.csv', header=0, index_col=0, encoding='utf-8',\n",
    "                          # convert list literals to lists\n",
    "                          converters={'ingredients': lambda x: x[2:-2].split(\"', '\")})\n",
    "    print('{:,} recipes'.format(recipes.shape[0]))\n",
    "    return recipes"
   ]
  },
  {
   "cell_type": "code",
   "execution_count": null,
   "metadata": {},
   "outputs": [],
   "source": [
    "def get_metrics(recipes):\n",
    "    columns = []\n",
    "    recipe_count = []\n",
    "    recipe_mean_length = []\n",
    "    ing_count = []\n",
    "    unique_count = []\n",
    "    rare_ing_count = []\n",
    "    rare_word_count = []\n",
    "    for cuisine, group in recipes.groupby('cuisine'):\n",
    "        columns.append(cuisine)\n",
    "        recipe_count.append(group.shape[0])\n",
    "        recipe_mean_length.append(round(group.ingredients.apply(len).mean()))\n",
    "        ing_list = [ing for ings in group.ingredients for ing in ings]\n",
    "        ing_count.append(len(ing_list))\n",
    "        ing_counts = Counter(ing_list)\n",
    "        unique_count.append(len(ing_counts))\n",
    "        rare_ing, rare_word = 0, 0\n",
    "        for ing, count in ing_counts.items():\n",
    "            if count == 1:\n",
    "                rare_ing += 1\n",
    "                if ing.find('-') > -1:\n",
    "                    rare_word += 1\n",
    "        rare_word_count.append(rare_word)\n",
    "        rare_ing_count.append(rare_ing)\n",
    "    rare_pct = [round(100 * rare / total) for rare, total in zip(rare_count, ing_count)]\n",
    "    index = ['recipe_count', 'recipe_length', 'unique_count', 'ing_count', 'rare_count', 'rare_pct', 'cuisine']\n",
    "    metrics = pd.DataFrame([recipe_count, recipe_mean_length, unique_count, ing_count, rare_count, rare_pct, columns],\n",
    "                           index=index, columns=columns, dtype=np.uint32)\n",
    "    return metrics.transpose()"
   ]
  },
  {
   "cell_type": "code",
   "execution_count": null,
   "metadata": {},
   "outputs": [],
   "source": [
    "def make_tfidfs(recipes):\n",
    "    doc_names = []\n",
    "    doc_strings = []\n",
    "    for cuisine, group in recipes.groupby('cuisine'):\n",
    "        doc_names.append(cuisine)\n",
    "        doc_strings.append(' '.join([ing for ings in group.ingredients for ing in ings]))\n",
    "    vectorizer = TfidfVectorizer(encoding='utf-8', ngram_range=(1, 1), max_df=1.0, min_df=1, max_features=None, \n",
    "                                 strip_accents=None, token_pattern=r'[\\w-]+', analyzer='word', stop_words=None)\n",
    "    tfidfs = vectorizer.fit_transform(doc_strings)\n",
    "    feature_names = vectorizer.get_feature_names()\n",
    "    tfidfs = pd.SparseDataFrame(tfidfs).to_dense()\n",
    "    tfidfs.fillna(0, inplace=True)\n",
    "    tfidfs.index = doc_names\n",
    "    tfidfs.columns = feature_names\n",
    "    return tfidfs"
   ]
  },
  {
   "cell_type": "code",
   "execution_count": null,
   "metadata": {},
   "outputs": [],
   "source": [
    "def smooth_tfidfs(tfidfs, intensity):\n",
    "    tfidf_fracs = tfidfs / tfidfs.sum(axis='index')\n",
    "    smooth_tails = lambda x: x / (intensity + x)\n",
    "    return tfidf_fracs.applymap(smooth_tails)"
   ]
  },
  {
   "cell_type": "code",
   "execution_count": null,
   "metadata": {},
   "outputs": [],
   "source": []
  }
 ],
 "metadata": {
  "kernelspec": {
   "display_name": "Python 3",
   "language": "python",
   "name": "python3"
  },
  "language_info": {
   "codemirror_mode": {
    "name": "ipython",
    "version": 3
   },
   "file_extension": ".py",
   "mimetype": "text/x-python",
   "name": "python",
   "nbconvert_exporter": "python",
   "pygments_lexer": "ipython3",
   "version": "3.6.7"
  }
 },
 "nbformat": 4,
 "nbformat_minor": 2
}
