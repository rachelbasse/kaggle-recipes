{
 "cells": [
  {
   "cell_type": "code",
   "execution_count": null,
   "metadata": {},
   "outputs": [],
   "source": [
    "# imports\n",
    "\n",
    "# standard\n",
    "from collections import Counter, defaultdict\n",
    "from itertools import product\n",
    "from math import log\n",
    "\n",
    "#extra\n",
    "import matplotlib.pyplot as plt\n",
    "import numpy as np\n",
    "import pandas as pd"
   ]
  },
  {
   "cell_type": "code",
   "execution_count": null,
   "metadata": {},
   "outputs": [],
   "source": [
    "new_features = {\n",
    "    'east': ['japanese', 'korean', 'vietnamese', 'chinese', 'thai', 'filipino', 'indian'],\n",
    "    'west': ['russian', 'british', 'irish', 'french', 'italian', 'greek', 'spanish', 'cajun_creole',\n",
    "             'moroccan', 'southern_us', 'mexican', 'jamaican', 'brazilian'],\n",
    "    'frenchlike': ['british', 'french', 'russian'],\n",
    "    'italianlike': ['greek', 'italian', 'mexican', 'spanish'],\n",
    "    'japaneselike': ['chinese', 'indian', 'japanese', 'korean'],\n",
    "    'mexicanlike': ['indian', 'mexican', 'thai', 'vietnamese'],\n",
    "    'southern_uslike': ['cajun_creole', 'jamaican', 'mexican', 'southern_us']\n",
    "}"
   ]
  },
  {
   "cell_type": "code",
   "execution_count": null,
   "metadata": {},
   "outputs": [],
   "source": [
    "def load_clean_data():\n",
    "    recipes = pd.read_csv('data/cleaned_data.csv', header=0, index_col=0, encoding='utf-8',\n",
    "                          # convert list literals to lists\n",
    "                          converters={'ingredients': lambda x: eval(x)})\n",
    "    print('{:,} recipes'.format(recipes.shape[0]))\n",
    "    return recipes"
   ]
  },
  {
   "cell_type": "code",
   "execution_count": null,
   "metadata": {},
   "outputs": [],
   "source": [
    "flatten = lambda lists: [item for lst in lists for item in lst]"
   ]
  },
  {
   "cell_type": "code",
   "execution_count": null,
   "metadata": {},
   "outputs": [],
   "source": [
    "def remove_states(ings):\n",
    "    return ings.map(lambda lst: [ing for ing in flatten(lst) if '_state' not in ing])"
   ]
  },
  {
   "cell_type": "code",
   "execution_count": null,
   "metadata": {},
   "outputs": [],
   "source": [
    "def remove_dupes(ings):\n",
    "    return ings.map(set).map(list)"
   ]
  },
  {
   "cell_type": "code",
   "execution_count": null,
   "metadata": {},
   "outputs": [],
   "source": [
    "def update_names(ings, renamed):\n",
    "    return [renamed[feature] if feature in renamed else feature for feature in ings]"
   ]
  },
  {
   "cell_type": "code",
   "execution_count": null,
   "metadata": {},
   "outputs": [],
   "source": [
    "def make_counts(recipes):\n",
    "    counts = {}\n",
    "    for cuisine, group in recipes.groupby('cuisine'):\n",
    "        all_ings = flatten(group.ingredients.to_list())\n",
    "        counts[cuisine] = Counter(all_ings)\n",
    "    counts = pd.DataFrame.from_dict(counts, orient='columns', dtype=np.float64)\n",
    "    counts.fillna(0.0, inplace=True)\n",
    "    counts.test = 0.0\n",
    "    print('{} features'.format(counts.shape[0]))\n",
    "    return counts"
   ]
  },
  {
   "cell_type": "code",
   "execution_count": null,
   "metadata": {},
   "outputs": [],
   "source": [
    "def scale_counts(counts, scales):\n",
    "    counts = counts.apply(lambda col: col.map(lambda x: x / scales[col.name]), axis='index')\n",
    "    return counts"
   ]
  },
  {
   "cell_type": "code",
   "execution_count": null,
   "metadata": {},
   "outputs": [],
   "source": [
    "def merge_arrows(arrows, update):\n",
    "    arrows.update(update)\n",
    "    for origin, target in arrows.items():\n",
    "        if target in arrows:\n",
    "            arrows[origin] = arrows[target]\n",
    "    return arrows\n",
    "\n",
    "def get_target_feature(feature, bad_features, catchall):\n",
    "    parts = feature.split('-')\n",
    "    if parts[-1] == catchall:\n",
    "        target = parts[0]\n",
    "    else:\n",
    "        parts[-1] = catchall\n",
    "        target = '-'.join(parts)\n",
    "    if target in bad_features:\n",
    "        target = get_target_feature(target, bad_features, catchall)\n",
    "    return target\n",
    "\n",
    "def merge_features(counts, features_to_merge, catchall):\n",
    "    renamed_features = {}\n",
    "    counts = counts.copy()\n",
    "    if catchall in features_to_merge:\n",
    "        features_to_merge = features_to_merge.copy()\n",
    "        features_to_merge.remove(catchall)\n",
    "    features_to_keep = set(counts.index) - set(features_to_merge)\n",
    "    for feature in features_to_merge:\n",
    "        target = get_target_feature(feature, features_to_merge, catchall)\n",
    "        renamed_features[feature] = target\n",
    "        if target in features_to_keep:\n",
    "            counts.loc[target] += counts.loc[feature]\n",
    "            continue\n",
    "        counts.loc[target] = counts.loc[feature]\n",
    "    counts = counts.drop(index=features_to_merge)\n",
    "    print('{} merged, {} features left'.format(len(renamed_features), len(counts)))\n",
    "    return (counts, renamed_features)"
   ]
  },
  {
   "cell_type": "code",
   "execution_count": null,
   "metadata": {},
   "outputs": [],
   "source": [
    "def merge_rare_features(counts, cutoff, catchall):\n",
    "    totals = counts.max(axis='columns')\n",
    "    rare_features = totals[totals <= cutoff].index.to_list()\n",
    "    long_features = [feature for feature in rare_features if len(feature.split('-')) > 1]\n",
    "    merged, renamed = merge_features(counts, long_features, catchall)\n",
    "    \n",
    "    totals = merged.max(axis='columns')\n",
    "    rare_features = totals[totals <= cutoff].index.to_list()\n",
    "    raretype_features = [feature for feature in rare_features if len(feature.split('-')) > 1]\n",
    "    merged, renamed_update = merge_features(merged, raretype_features, catchall)\n",
    "    renamed = merge_arrows(renamed, renamed_update)\n",
    "    \n",
    "    totals = merged.max(axis='columns')\n",
    "    rare_features = totals[totals <= cutoff].index.to_list()\n",
    "    merged, renamed_update = merge_features(merged, rare_features, catchall)\n",
    "    renamed = merge_arrows(renamed, renamed_update)\n",
    "    \n",
    "    return (merged, renamed)"
   ]
  },
  {
   "cell_type": "code",
   "execution_count": null,
   "metadata": {},
   "outputs": [],
   "source": [
    "def get_proportions(counts):\n",
    "    total = counts.sum(axis='columns')\n",
    "    inverse_total = total.map(lambda x: 1 / x if x else 0)\n",
    "    proportions = counts.T * inverse_total\n",
    "    return proportions.T"
   ]
  },
  {
   "cell_type": "code",
   "execution_count": null,
   "metadata": {},
   "outputs": [],
   "source": [
    "def make_indicators(recipes, features):\n",
    "    indicators = np.zeros([recipes.shape[0], len(features)], dtype=np.uint8)\n",
    "    feature_index = {feature: i for i, feature in enumerate(features)}\n",
    "    for row_i, ings in enumerate(recipes.ingredients):\n",
    "        for feature in ings:\n",
    "            indicators[row_i, feature_index[feature]] = 1\n",
    "    indicators = pd.DataFrame(indicators, index=recipes.index, columns=features)\n",
    "    return indicators"
   ]
  },
  {
   "cell_type": "code",
   "execution_count": null,
   "metadata": {},
   "outputs": [],
   "source": [
    "def make_points(props, adj=True):\n",
    "    smooth = lambda data, i: data.applymap(lambda x: log(1.01 + (x / (i + x))) if x else 0)\n",
    "    points = smooth(props, .1)\n",
    "    weights = {\n",
    "        # drop\n",
    "        'british': .925,\n",
    "        'cajun_creole': .875,\n",
    "        #'chinese': .99,\n",
    "        #'greek': .99,\n",
    "        'indian': .95,\n",
    "        'irish': .97,\n",
    "        'jamaican': .91,\n",
    "        'korean': .985,\n",
    "        'moroccan': .89,\n",
    "        'russian': .92,\n",
    "        'spanish': .984,\n",
    "        'thai': .95,\n",
    "        'vietnamese': .93,\n",
    "        # boost\n",
    "        'brazilian': 1.01,\n",
    "        'filipino': 1.01,\n",
    "        'french': 1.03,\n",
    "        'italian': 1.12,\n",
    "        'japanese': 1.11,\n",
    "        'mexican': 1.04,\n",
    "        'southern_us': 1.03\n",
    "    }\n",
    "    if adj:\n",
    "        for cuisine, weight in weights.items():\n",
    "            points[cuisine] = weight * points[cuisine]\n",
    "    return points"
   ]
  },
  {
   "cell_type": "code",
   "execution_count": null,
   "metadata": {},
   "outputs": [],
   "source": [
    "def make_scores(recipe, points, group=True):\n",
    "    scores = points.loc[recipe.ingredients]\n",
    "    if group:\n",
    "        groups = scores.groupby(lambda ing: ing.split('-')[0])\n",
    "        return groups.mean().mean()\n",
    "    return scores.mean()"
   ]
  },
  {
   "cell_type": "code",
   "execution_count": null,
   "metadata": {},
   "outputs": [],
   "source": [
    "def add_score_features(scores):\n",
    "    to_add = []\n",
    "    for name, cats in new_features.items():\n",
    "        series = scores[cats].mean(axis='columns')\n",
    "        series.name = name\n",
    "        to_add.append(series)\n",
    "    scores = pd.concat([scores] + to_add, axis='columns')\n",
    "    return scores"
   ]
  },
  {
   "cell_type": "code",
   "execution_count": null,
   "metadata": {},
   "outputs": [],
   "source": [
    "def plot_cnf(cm, classes):\n",
    "    plt.figure(figsize=(9,9))\n",
    "    plt.imshow(cm, interpolation='nearest', cmap=plt.cm.Blues)\n",
    "    tick_marks = np.arange(len(classes))\n",
    "    plt.xticks(tick_marks, classes, rotation=80)\n",
    "    plt.yticks(tick_marks, classes)\n",
    "    thresh = cm.max() / 2.\n",
    "    for i, j in product(range(cm.shape[0]), range(cm.shape[1])):\n",
    "        plt.text(j, i, format(cm[i, j], 'd'),\n",
    "                 horizontalalignment=\"center\",\n",
    "                 color=\"white\" if cm[i, j] > thresh else \"black\")\n",
    "    plt.ylabel('True label')\n",
    "    plt.xlabel('Predicted label')\n",
    "    plt.tight_layout()\n",
    "    plt.grid(False)"
   ]
  },
  {
   "cell_type": "code",
   "execution_count": null,
   "metadata": {},
   "outputs": [],
   "source": [
    "def save_output(output, prefix='temp_'):\n",
    "    output = output.drop(columns=['ingredients'])\n",
    "    \n",
    "    train = output.query('cuisine != \"test\"')\n",
    "    test = output.query('cuisine == \"test\"')\n",
    "    \n",
    "    train.cuisine.to_csv('data/cuisine.csv', header=False, encoding='utf-8')\n",
    "    \n",
    "    train = train.drop(columns=['cuisine'])\n",
    "    test = test.drop(columns=['cuisine'])\n",
    "    \n",
    "    train.to_csv('data/' + prefix + 'train.csv', header=True, encoding='utf-8') \n",
    "    test.to_csv('data/' + prefix + 'test.csv', header=True, encoding='utf-8')"
   ]
  }
 ],
 "metadata": {
  "kernelspec": {
   "display_name": "Python 3",
   "language": "python",
   "name": "python3"
  },
  "language_info": {
   "codemirror_mode": {
    "name": "ipython",
    "version": 3
   },
   "file_extension": ".py",
   "mimetype": "text/x-python",
   "name": "python",
   "nbconvert_exporter": "python",
   "pygments_lexer": "ipython3",
   "version": "3.6.7"
  }
 },
 "nbformat": 4,
 "nbformat_minor": 2
}
