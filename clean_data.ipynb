{
 "cells": [
  {
   "cell_type": "code",
   "execution_count": null,
   "metadata": {},
   "outputs": [],
   "source": [
    "# Imports\n",
    "from collections import defaultdict, Counter\n",
    "import numpy as np\n",
    "from operator import itemgetter\n",
    "import pandas as pd\n",
    "import re\n",
    "\n",
    "### Numpy Print Options ###\n",
    "np.set_printoptions(\n",
    "    threshold=2000, # 1000\n",
    "    edgeitems=10, # 3\n",
    "    linewidth=180, # 75\n",
    "    precision=2\n",
    ")"
   ]
  },
  {
   "cell_type": "code",
   "execution_count": null,
   "metadata": {},
   "outputs": [],
   "source": [
    "train = pd.read_json('data/train.json', orient='records', encoding='utf-8')\n",
    "test = pd.read_json('data/test.json', orient='records', encoding='utf-8')"
   ]
  },
  {
   "cell_type": "code",
   "execution_count": null,
   "metadata": {},
   "outputs": [],
   "source": [
    "train.set_index('id', drop=True, inplace=True)\n",
    "test.set_index('id', drop=True, inplace=True)\n",
    "test.insert(0, 'cuisine', 'test')\n",
    "data = pd.concat((train, test), axis=0)"
   ]
  },
  {
   "cell_type": "code",
   "execution_count": null,
   "metadata": {},
   "outputs": [],
   "source": [
    "chars_to_remove = r'[®™\\!\\'%\\(\\)\\d]' # for re.sub"
   ]
  },
  {
   "cell_type": "code",
   "execution_count": null,
   "metadata": {},
   "outputs": [],
   "source": [
    "phrases_to_remove = {\n",
    " 'â€',\n",
    " 'a taste of thai',\n",
    " 'all natural',\n",
    " 'argo',\n",
    " 'artisan blend',\n",
    " 'bertolli',\n",
    " 'best food',\n",
    " 'big slice',\n",
    " 'bone in',\n",
    " 'campbells',\n",
    " 'cholesterol free',\n",
    " 'classic',\n",
    " 'conimex woksaus specials',\n",
    " 'country crock',\n",
    " 'crystal farms',\n",
    " 'delallo',\n",
    " 'deli fresh',\n",
    " 'diet',\n",
    " 'duncan hines',\n",
    " 'e-fu',\n",
    " 'family harvest',\n",
    " 'family size',\n",
    " 'farmhouse originals',\n",
    " 'fat free',\n",
    " 'finely shredded',\n",
    " 'foster farms',\n",
    " 'franks redhot',\n",
    " 'frenchs',\n",
    " 'gluten-free',\n",
    " 'gluten free',\n",
    " 'good seasons',\n",
    " 'gourmet garden',\n",
    " 'green giant',\n",
    " 'heinz',\n",
    " 'hellmann',\n",
    " 'hidden valley',\n",
    " 'hidden valley original',\n",
    " 'home originals',\n",
    " 'honeysuckle white',\n",
    " 'hurst',\n",
    " 'jimmy dean',\n",
    " 'johnsonville',\n",
    " 'king arthur',\n",
    " 'klondike',\n",
    " 'knorr',\n",
    " 'knudsen',\n",
    " 'kraft',\n",
    " 'land o lakes',\n",
    " 'less sodium',\n",
    " 'lipton',\n",
    " 'lipton recip secret',\n",
    " 'lipton recipe secret',\n",
    " 'low fat',\n",
    " 'low-fat',\n",
    " 'low sodium',\n",
    " 'low-sodium',\n",
    " 'made with',\n",
    " 'no-stick',\n",
    " 'old el paso',\n",
    " 'old world style',\n",
    " 'original',\n",
    " 'oscar mayer',\n",
    " 'oz',\n",
    " 'pam',\n",
    " 'pasta sides',\n",
    " 'pillsbury',\n",
    " 'pompeian',\n",
    " 'premium',\n",
    " 'pure wesson',\n",
    " 'ready rice',\n",
    " 'recipe creations',\n",
    " 'reduced fat',\n",
    " 'reduced sodium',\n",
    " 'refrigerated',\n",
    " 'rotel',\n",
    " 'ro-tel',\n",
    " 'sargento',\n",
    " 'shredded',\n",
    " 'simply organic',\n",
    " 'skin on',\n",
    " 'soy vay',\n",
    " 'spice islands',\n",
    " 'stonefire',\n",
    " 'store bought',\n",
    " 'taco bell',\n",
    " 'thick and chunky',\n",
    " 'thick n chunky',\n",
    " 'veri veri',\n",
    " 'with a hint of',\n",
    " 'with a touch of philadelphia',\n",
    "}"
   ]
  },
  {
   "cell_type": "code",
   "execution_count": null,
   "metadata": {},
   "outputs": [],
   "source": [
    "phrases_to_sub = {\n",
    " 'i cant believ its not butter': 'butter',\n",
    " 'i cant believe its not butter': 'butter',\n",
    " 'i cant believ it not butter': 'butter',\n",
    " 'ragu': 'pasta sauce',\n",
    " 'uncle bens': 'rice',\n",
    " 'wish bone': 'dressing',\n",
    " 'wish-bone': 'dressing',\n",
    " 'yoplait': 'yogurt'\n",
    "}"
   ]
  },
  {
   "cell_type": "code",
   "execution_count": null,
   "metadata": {},
   "outputs": [],
   "source": [
    "def clean_phrases(orig_phrase):\n",
    "    phrase = orig_phrase.lower()\n",
    "    # remove prep instructions: 'food, prep'\n",
    "    split = phrase.split(',')\n",
    "    if len(split) > 1:\n",
    "        phrase = split[0]\n",
    "    phrase = re.sub(chars_to_remove, '', phrase)\n",
    "    phrase = re.sub(r' ?\\& ?', ' and ', phrase)\n",
    "    for k, v in phrases_to_sub.items():\n",
    "        phrase = re.sub(k, v, phrase)\n",
    "    for remove in phrases_to_remove:\n",
    "        phrase = re.sub(remove, '', phrase)\n",
    "    # move 'with x' phrase to front\n",
    "    split = phrase.split(' with ')\n",
    "    if len(split) > 1:\n",
    "        phrase = ' '.join([split[1], split[0]])\n",
    "    # remove single letters\n",
    "    if len(phrase) == 0:\n",
    "        print(orig_phrase)\n",
    "    phrase = re.sub(r'^\\w | \\w\\b| \\w ', ' ', phrase)\n",
    "    phrase = re.sub(r'\\s+', ' ', phrase)\n",
    "    phrase = phrase.strip()\n",
    "    return phrase"
   ]
  },
  {
   "cell_type": "code",
   "execution_count": null,
   "metadata": {},
   "outputs": [],
   "source": [
    "data.ingredients = data.ingredients.map(lambda l: list(map(clean_phrases, l)))"
   ]
  },
  {
   "cell_type": "code",
   "execution_count": null,
   "metadata": {},
   "outputs": [],
   "source": [
    "ing_counts = Counter(ings)\n",
    "len(ing_counts)"
   ]
  },
  {
   "cell_type": "code",
   "execution_count": null,
   "metadata": {},
   "outputs": [],
   "source": [
    "ing_map = {k: i for i, k in enumerate(ing_counts.keys())}\n",
    "ing_names = [tup[0] for tup in sorted(ing_map.items(), key=itemgetter(1))]"
   ]
  },
  {
   "cell_type": "code",
   "execution_count": null,
   "metadata": {},
   "outputs": [],
   "source": [
    "len(ing_names)"
   ]
  },
  {
   "cell_type": "code",
   "execution_count": null,
   "metadata": {},
   "outputs": [],
   "source": [
    "phrase_lengths = defaultdict(list)\n",
    "for name in ing_names:\n",
    "    phrase_lengths[len(name.split())].append(name)\n",
    "phrase_lengths.keys()"
   ]
  },
  {
   "cell_type": "code",
   "execution_count": null,
   "metadata": {},
   "outputs": [],
   "source": [
    "zeros = np.zeros((data.shape[0], len(ing_counts)), dtype=np.uint8)"
   ]
  },
  {
   "cell_type": "code",
   "execution_count": null,
   "metadata": {},
   "outputs": [],
   "source": [
    "for ri, ings in enumerate(data.ingredients):\n",
    "    zeros[ri, [ing_map[ing] for ing in ings]] = 1"
   ]
  },
  {
   "cell_type": "code",
   "execution_count": null,
   "metadata": {},
   "outputs": [],
   "source": [
    "zeros_df = pd.DataFrame(zeros, columns=ing_names, index=data.index)"
   ]
  },
  {
   "cell_type": "code",
   "execution_count": null,
   "metadata": {},
   "outputs": [],
   "source": [
    "zeros_df.shape"
   ]
  },
  {
   "cell_type": "code",
   "execution_count": null,
   "metadata": {},
   "outputs": [],
   "source": [
    "data = pd.concat((data, zeros_df), axis=1)"
   ]
  },
  {
   "cell_type": "code",
   "execution_count": null,
   "metadata": {},
   "outputs": [],
   "source": [
    "data.shape"
   ]
  },
  {
   "cell_type": "code",
   "execution_count": null,
   "metadata": {},
   "outputs": [],
   "source": [
    "train = data.query('cuisine != \"test\"')\n",
    "train = train.drop(columns=['ingredients'])\n",
    "train_cuisine = train.cuisine\n",
    "train_cuisine.to_csv('data/cuisine.csv', header=False, encoding='utf-8')"
   ]
  },
  {
   "cell_type": "code",
   "execution_count": null,
   "metadata": {},
   "outputs": [],
   "source": [
    "train = train.drop(columns=['cuisine'])\n",
    "train.to_csv('data/phrases_cleaned_train.csv', header=True, encoding='utf-8')"
   ]
  },
  {
   "cell_type": "code",
   "execution_count": null,
   "metadata": {},
   "outputs": [],
   "source": [
    "test = data.query('cuisine == \"test\"')\n",
    "test = test.drop(columns=['cuisine', 'ingredients'])\n",
    "test.to_csv('data/phrases_cleaned_test.csv', header=True, encoding='utf-8')"
   ]
  },
  {
   "cell_type": "code",
   "execution_count": null,
   "metadata": {},
   "outputs": [],
   "source": [
    "test.head()"
   ]
  }
 ],
 "metadata": {
  "kernelspec": {
   "display_name": "Python 3",
   "language": "python",
   "name": "python3"
  },
  "language_info": {
   "codemirror_mode": {
    "name": "ipython",
    "version": 3
   },
   "file_extension": ".py",
   "mimetype": "text/x-python",
   "name": "python",
   "nbconvert_exporter": "python",
   "pygments_lexer": "ipython3",
   "version": "3.7.0"
  }
 },
 "nbformat": 4,
 "nbformat_minor": 2
}
